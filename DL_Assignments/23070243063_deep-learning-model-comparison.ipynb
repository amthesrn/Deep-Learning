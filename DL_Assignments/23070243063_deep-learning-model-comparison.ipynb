{
 "cells": [
  {
   "cell_type": "markdown",
   "id": "a2dd45f1",
   "metadata": {
    "papermill": {
     "duration": 0.010134,
     "end_time": "2024-09-09T15:53:13.911944",
     "exception": false,
     "start_time": "2024-09-09T15:53:13.901810",
     "status": "completed"
    },
    "tags": []
   },
   "source": [
    "### Name: Soumya Ranjan Nayak\n",
    "### PRN:23070243063\n",
    "### Subject: Deep Learning\n",
    "\n",
    "### Dataset: Titanic_survival\n",
    "### platform on: Kaggle"
   ]
  },
  {
   "cell_type": "code",
   "execution_count": 1,
   "id": "b624964f",
   "metadata": {
    "_cell_guid": "b1076dfc-b9ad-4769-8c92-a6c4dae69d19",
    "_uuid": "8f2839f25d086af736a60e9eeb907d3b93b6e0e5",
    "execution": {
     "iopub.execute_input": "2024-09-09T15:53:13.933011Z",
     "iopub.status.busy": "2024-09-09T15:53:13.932606Z",
     "iopub.status.idle": "2024-09-09T15:53:14.343870Z",
     "shell.execute_reply": "2024-09-09T15:53:14.342707Z"
    },
    "papermill": {
     "duration": 0.424767,
     "end_time": "2024-09-09T15:53:14.346829",
     "exception": false,
     "start_time": "2024-09-09T15:53:13.922062",
     "status": "completed"
    },
    "tags": []
   },
   "outputs": [
    {
     "name": "stdout",
     "output_type": "stream",
     "text": [
      "/kaggle/input/titanic/train.csv\n",
      "/kaggle/input/titanic/test.csv\n",
      "/kaggle/input/titanic/gender_submission.csv\n"
     ]
    }
   ],
   "source": [
    "# This Python 3 environment comes with many helpful analytics libraries installed\n",
    "# It is defined by the kaggle/python Docker image: https://github.com/kaggle/docker-python\n",
    "# For example, here's several helpful packages to load\n",
    "\n",
    "import numpy as np # linear algebra\n",
    "import pandas as pd# data processing, CSV file I/O (e.g. pd.read_csv)\n",
    "import matplotlib.pyplot as plt\n",
    "\n",
    "# Input data files are available in the read-only \"../input/\" directory\n",
    "# For example, running this (by clicking run or pressing Shift+Enter) will list all files under the input directory\n",
    "\n",
    "import os\n",
    "for dirname, _, filenames in os.walk('/kaggle/input'):\n",
    "    for filename in filenames:\n",
    "        print(os.path.join(dirname, filename))\n",
    "\n",
    "# You can write up to 20GB to the current directory (/kaggle/working/) that gets preserved as output when you create a version using \"Save & Run All\" \n",
    "# You can also write temporary files to /kaggle/temp/, but they won't be saved outside of the current session"
   ]
  },
  {
   "cell_type": "code",
   "execution_count": 2,
   "id": "9e069fb6",
   "metadata": {
    "execution": {
     "iopub.execute_input": "2024-09-09T15:53:14.367513Z",
     "iopub.status.busy": "2024-09-09T15:53:14.366940Z",
     "iopub.status.idle": "2024-09-09T15:53:14.401273Z",
     "shell.execute_reply": "2024-09-09T15:53:14.400261Z"
    },
    "papermill": {
     "duration": 0.047456,
     "end_time": "2024-09-09T15:53:14.403814",
     "exception": false,
     "start_time": "2024-09-09T15:53:14.356358",
     "status": "completed"
    },
    "tags": []
   },
   "outputs": [],
   "source": [
    "#reading the data\n",
    "df=pd.read_csv('/kaggle/input/titanic/train.csv')"
   ]
  },
  {
   "cell_type": "markdown",
   "id": "09092af9",
   "metadata": {
    "papermill": {
     "duration": 0.009049,
     "end_time": "2024-09-09T15:53:14.422330",
     "exception": false,
     "start_time": "2024-09-09T15:53:14.413281",
     "status": "completed"
    },
    "tags": []
   },
   "source": [
    "### Exploratory Data Analysis"
   ]
  },
  {
   "cell_type": "code",
   "execution_count": 3,
   "id": "2304e00a",
   "metadata": {
    "execution": {
     "iopub.execute_input": "2024-09-09T15:53:14.442430Z",
     "iopub.status.busy": "2024-09-09T15:53:14.441996Z",
     "iopub.status.idle": "2024-09-09T15:53:14.467491Z",
     "shell.execute_reply": "2024-09-09T15:53:14.466279Z"
    },
    "papermill": {
     "duration": 0.038351,
     "end_time": "2024-09-09T15:53:14.469969",
     "exception": false,
     "start_time": "2024-09-09T15:53:14.431618",
     "status": "completed"
    },
    "tags": []
   },
   "outputs": [
    {
     "data": {
      "text/html": [
       "<div>\n",
       "<style scoped>\n",
       "    .dataframe tbody tr th:only-of-type {\n",
       "        vertical-align: middle;\n",
       "    }\n",
       "\n",
       "    .dataframe tbody tr th {\n",
       "        vertical-align: top;\n",
       "    }\n",
       "\n",
       "    .dataframe thead th {\n",
       "        text-align: right;\n",
       "    }\n",
       "</style>\n",
       "<table border=\"1\" class=\"dataframe\">\n",
       "  <thead>\n",
       "    <tr style=\"text-align: right;\">\n",
       "      <th></th>\n",
       "      <th>PassengerId</th>\n",
       "      <th>Survived</th>\n",
       "      <th>Pclass</th>\n",
       "      <th>Name</th>\n",
       "      <th>Sex</th>\n",
       "      <th>Age</th>\n",
       "      <th>SibSp</th>\n",
       "      <th>Parch</th>\n",
       "      <th>Ticket</th>\n",
       "      <th>Fare</th>\n",
       "      <th>Cabin</th>\n",
       "      <th>Embarked</th>\n",
       "    </tr>\n",
       "  </thead>\n",
       "  <tbody>\n",
       "    <tr>\n",
       "      <th>0</th>\n",
       "      <td>1</td>\n",
       "      <td>0</td>\n",
       "      <td>3</td>\n",
       "      <td>Braund, Mr. Owen Harris</td>\n",
       "      <td>male</td>\n",
       "      <td>22.0</td>\n",
       "      <td>1</td>\n",
       "      <td>0</td>\n",
       "      <td>A/5 21171</td>\n",
       "      <td>7.2500</td>\n",
       "      <td>NaN</td>\n",
       "      <td>S</td>\n",
       "    </tr>\n",
       "    <tr>\n",
       "      <th>1</th>\n",
       "      <td>2</td>\n",
       "      <td>1</td>\n",
       "      <td>1</td>\n",
       "      <td>Cumings, Mrs. John Bradley (Florence Briggs Th...</td>\n",
       "      <td>female</td>\n",
       "      <td>38.0</td>\n",
       "      <td>1</td>\n",
       "      <td>0</td>\n",
       "      <td>PC 17599</td>\n",
       "      <td>71.2833</td>\n",
       "      <td>C85</td>\n",
       "      <td>C</td>\n",
       "    </tr>\n",
       "    <tr>\n",
       "      <th>2</th>\n",
       "      <td>3</td>\n",
       "      <td>1</td>\n",
       "      <td>3</td>\n",
       "      <td>Heikkinen, Miss. Laina</td>\n",
       "      <td>female</td>\n",
       "      <td>26.0</td>\n",
       "      <td>0</td>\n",
       "      <td>0</td>\n",
       "      <td>STON/O2. 3101282</td>\n",
       "      <td>7.9250</td>\n",
       "      <td>NaN</td>\n",
       "      <td>S</td>\n",
       "    </tr>\n",
       "    <tr>\n",
       "      <th>3</th>\n",
       "      <td>4</td>\n",
       "      <td>1</td>\n",
       "      <td>1</td>\n",
       "      <td>Futrelle, Mrs. Jacques Heath (Lily May Peel)</td>\n",
       "      <td>female</td>\n",
       "      <td>35.0</td>\n",
       "      <td>1</td>\n",
       "      <td>0</td>\n",
       "      <td>113803</td>\n",
       "      <td>53.1000</td>\n",
       "      <td>C123</td>\n",
       "      <td>S</td>\n",
       "    </tr>\n",
       "    <tr>\n",
       "      <th>4</th>\n",
       "      <td>5</td>\n",
       "      <td>0</td>\n",
       "      <td>3</td>\n",
       "      <td>Allen, Mr. William Henry</td>\n",
       "      <td>male</td>\n",
       "      <td>35.0</td>\n",
       "      <td>0</td>\n",
       "      <td>0</td>\n",
       "      <td>373450</td>\n",
       "      <td>8.0500</td>\n",
       "      <td>NaN</td>\n",
       "      <td>S</td>\n",
       "    </tr>\n",
       "  </tbody>\n",
       "</table>\n",
       "</div>"
      ],
      "text/plain": [
       "   PassengerId  Survived  Pclass  \\\n",
       "0            1         0       3   \n",
       "1            2         1       1   \n",
       "2            3         1       3   \n",
       "3            4         1       1   \n",
       "4            5         0       3   \n",
       "\n",
       "                                                Name     Sex   Age  SibSp  \\\n",
       "0                            Braund, Mr. Owen Harris    male  22.0      1   \n",
       "1  Cumings, Mrs. John Bradley (Florence Briggs Th...  female  38.0      1   \n",
       "2                             Heikkinen, Miss. Laina  female  26.0      0   \n",
       "3       Futrelle, Mrs. Jacques Heath (Lily May Peel)  female  35.0      1   \n",
       "4                           Allen, Mr. William Henry    male  35.0      0   \n",
       "\n",
       "   Parch            Ticket     Fare Cabin Embarked  \n",
       "0      0         A/5 21171   7.2500   NaN        S  \n",
       "1      0          PC 17599  71.2833   C85        C  \n",
       "2      0  STON/O2. 3101282   7.9250   NaN        S  \n",
       "3      0            113803  53.1000  C123        S  \n",
       "4      0            373450   8.0500   NaN        S  "
      ]
     },
     "execution_count": 3,
     "metadata": {},
     "output_type": "execute_result"
    }
   ],
   "source": [
    "df.head(5)"
   ]
  },
  {
   "cell_type": "code",
   "execution_count": 4,
   "id": "18df3347",
   "metadata": {
    "execution": {
     "iopub.execute_input": "2024-09-09T15:53:14.491146Z",
     "iopub.status.busy": "2024-09-09T15:53:14.490216Z",
     "iopub.status.idle": "2024-09-09T15:53:14.512737Z",
     "shell.execute_reply": "2024-09-09T15:53:14.511679Z"
    },
    "papermill": {
     "duration": 0.035571,
     "end_time": "2024-09-09T15:53:14.515002",
     "exception": false,
     "start_time": "2024-09-09T15:53:14.479431",
     "status": "completed"
    },
    "tags": []
   },
   "outputs": [
    {
     "name": "stdout",
     "output_type": "stream",
     "text": [
      "<class 'pandas.core.frame.DataFrame'>\n",
      "RangeIndex: 891 entries, 0 to 890\n",
      "Data columns (total 12 columns):\n",
      " #   Column       Non-Null Count  Dtype  \n",
      "---  ------       --------------  -----  \n",
      " 0   PassengerId  891 non-null    int64  \n",
      " 1   Survived     891 non-null    int64  \n",
      " 2   Pclass       891 non-null    int64  \n",
      " 3   Name         891 non-null    object \n",
      " 4   Sex          891 non-null    object \n",
      " 5   Age          714 non-null    float64\n",
      " 6   SibSp        891 non-null    int64  \n",
      " 7   Parch        891 non-null    int64  \n",
      " 8   Ticket       891 non-null    object \n",
      " 9   Fare         891 non-null    float64\n",
      " 10  Cabin        204 non-null    object \n",
      " 11  Embarked     889 non-null    object \n",
      "dtypes: float64(2), int64(5), object(5)\n",
      "memory usage: 83.7+ KB\n"
     ]
    }
   ],
   "source": [
    "df.info()"
   ]
  },
  {
   "cell_type": "code",
   "execution_count": 5,
   "id": "06fafb40",
   "metadata": {
    "execution": {
     "iopub.execute_input": "2024-09-09T15:53:14.536026Z",
     "iopub.status.busy": "2024-09-09T15:53:14.535133Z",
     "iopub.status.idle": "2024-09-09T15:53:14.542369Z",
     "shell.execute_reply": "2024-09-09T15:53:14.541162Z"
    },
    "papermill": {
     "duration": 0.019961,
     "end_time": "2024-09-09T15:53:14.544523",
     "exception": false,
     "start_time": "2024-09-09T15:53:14.524562",
     "status": "completed"
    },
    "tags": []
   },
   "outputs": [
    {
     "data": {
      "text/plain": [
       "10692"
      ]
     },
     "execution_count": 5,
     "metadata": {},
     "output_type": "execute_result"
    }
   ],
   "source": [
    "df.size"
   ]
  },
  {
   "cell_type": "code",
   "execution_count": 6,
   "id": "0ba892ab",
   "metadata": {
    "execution": {
     "iopub.execute_input": "2024-09-09T15:53:14.566294Z",
     "iopub.status.busy": "2024-09-09T15:53:14.565310Z",
     "iopub.status.idle": "2024-09-09T15:53:14.572583Z",
     "shell.execute_reply": "2024-09-09T15:53:14.571393Z"
    },
    "papermill": {
     "duration": 0.020395,
     "end_time": "2024-09-09T15:53:14.574740",
     "exception": false,
     "start_time": "2024-09-09T15:53:14.554345",
     "status": "completed"
    },
    "tags": []
   },
   "outputs": [
    {
     "data": {
      "text/plain": [
       "(891, 12)"
      ]
     },
     "execution_count": 6,
     "metadata": {},
     "output_type": "execute_result"
    }
   ],
   "source": [
    "df.shape"
   ]
  },
  {
   "cell_type": "code",
   "execution_count": 7,
   "id": "5b102b18",
   "metadata": {
    "execution": {
     "iopub.execute_input": "2024-09-09T15:53:14.596573Z",
     "iopub.status.busy": "2024-09-09T15:53:14.596004Z",
     "iopub.status.idle": "2024-09-09T15:53:14.603139Z",
     "shell.execute_reply": "2024-09-09T15:53:14.602086Z"
    },
    "papermill": {
     "duration": 0.020645,
     "end_time": "2024-09-09T15:53:14.605225",
     "exception": false,
     "start_time": "2024-09-09T15:53:14.584580",
     "status": "completed"
    },
    "tags": []
   },
   "outputs": [
    {
     "data": {
      "text/plain": [
       "Index(['PassengerId', 'Survived', 'Pclass', 'Name', 'Sex', 'Age', 'SibSp',\n",
       "       'Parch', 'Ticket', 'Fare', 'Cabin', 'Embarked'],\n",
       "      dtype='object')"
      ]
     },
     "execution_count": 7,
     "metadata": {},
     "output_type": "execute_result"
    }
   ],
   "source": [
    "df.columns"
   ]
  },
  {
   "cell_type": "code",
   "execution_count": 8,
   "id": "ab0ab819",
   "metadata": {
    "execution": {
     "iopub.execute_input": "2024-09-09T15:53:14.627411Z",
     "iopub.status.busy": "2024-09-09T15:53:14.626983Z",
     "iopub.status.idle": "2024-09-09T15:53:14.636112Z",
     "shell.execute_reply": "2024-09-09T15:53:14.635120Z"
    },
    "papermill": {
     "duration": 0.022909,
     "end_time": "2024-09-09T15:53:14.638166",
     "exception": false,
     "start_time": "2024-09-09T15:53:14.615257",
     "status": "completed"
    },
    "tags": []
   },
   "outputs": [
    {
     "data": {
      "text/plain": [
       "PassengerId      0\n",
       "Survived         0\n",
       "Pclass           0\n",
       "Name             0\n",
       "Sex              0\n",
       "Age            177\n",
       "SibSp            0\n",
       "Parch            0\n",
       "Ticket           0\n",
       "Fare             0\n",
       "Cabin          687\n",
       "Embarked         2\n",
       "dtype: int64"
      ]
     },
     "execution_count": 8,
     "metadata": {},
     "output_type": "execute_result"
    }
   ],
   "source": [
    "df.isnull().sum()"
   ]
  },
  {
   "cell_type": "markdown",
   "id": "dcb57000",
   "metadata": {
    "papermill": {
     "duration": 0.009779,
     "end_time": "2024-09-09T15:53:14.658222",
     "exception": false,
     "start_time": "2024-09-09T15:53:14.648443",
     "status": "completed"
    },
    "tags": []
   },
   "source": [
    "#### for Cabin column:\n",
    "* 687/891~= 77% which is quite high, so we can drop this column, as it will not contribute much to the analysis.\n",
    "#### for age column:\n",
    "* 177/891~= 20% which is low and can be modified.\n",
    "* Also it is an important column for the analysis.\n",
    "#### for Embarked column:\n",
    "* only 2 records have null values hence can be modified.\n",
    "* also is a categorical variable can be replace with mode"
   ]
  },
  {
   "cell_type": "code",
   "execution_count": 9,
   "id": "a5ecf428",
   "metadata": {
    "execution": {
     "iopub.execute_input": "2024-09-09T15:53:14.681294Z",
     "iopub.status.busy": "2024-09-09T15:53:14.680400Z",
     "iopub.status.idle": "2024-09-09T15:53:14.690690Z",
     "shell.execute_reply": "2024-09-09T15:53:14.689521Z"
    },
    "papermill": {
     "duration": 0.024756,
     "end_time": "2024-09-09T15:53:14.693114",
     "exception": false,
     "start_time": "2024-09-09T15:53:14.668358",
     "status": "completed"
    },
    "tags": []
   },
   "outputs": [],
   "source": [
    "# droping the columns that not going to contribute to the value\n",
    "df.drop(columns=['Cabin','Ticket','Embarked'],inplace=True)"
   ]
  },
  {
   "cell_type": "code",
   "execution_count": 10,
   "id": "97ca49f2",
   "metadata": {
    "execution": {
     "iopub.execute_input": "2024-09-09T15:53:14.716253Z",
     "iopub.status.busy": "2024-09-09T15:53:14.715450Z",
     "iopub.status.idle": "2024-09-09T15:53:14.723179Z",
     "shell.execute_reply": "2024-09-09T15:53:14.721945Z"
    },
    "papermill": {
     "duration": 0.02169,
     "end_time": "2024-09-09T15:53:14.725419",
     "exception": false,
     "start_time": "2024-09-09T15:53:14.703729",
     "status": "completed"
    },
    "tags": []
   },
   "outputs": [],
   "source": [
    "#modifying the name column\n",
    "df['Name']= df['Name'].str.split(',',n=1).str[0]"
   ]
  },
  {
   "cell_type": "code",
   "execution_count": 11,
   "id": "f137c7f7",
   "metadata": {
    "execution": {
     "iopub.execute_input": "2024-09-09T15:53:14.747826Z",
     "iopub.status.busy": "2024-09-09T15:53:14.747205Z",
     "iopub.status.idle": "2024-09-09T15:53:14.765707Z",
     "shell.execute_reply": "2024-09-09T15:53:14.764484Z"
    },
    "papermill": {
     "duration": 0.032339,
     "end_time": "2024-09-09T15:53:14.767946",
     "exception": false,
     "start_time": "2024-09-09T15:53:14.735607",
     "status": "completed"
    },
    "tags": []
   },
   "outputs": [
    {
     "data": {
      "text/html": [
       "<div>\n",
       "<style scoped>\n",
       "    .dataframe tbody tr th:only-of-type {\n",
       "        vertical-align: middle;\n",
       "    }\n",
       "\n",
       "    .dataframe tbody tr th {\n",
       "        vertical-align: top;\n",
       "    }\n",
       "\n",
       "    .dataframe thead th {\n",
       "        text-align: right;\n",
       "    }\n",
       "</style>\n",
       "<table border=\"1\" class=\"dataframe\">\n",
       "  <thead>\n",
       "    <tr style=\"text-align: right;\">\n",
       "      <th></th>\n",
       "      <th>PassengerId</th>\n",
       "      <th>Survived</th>\n",
       "      <th>Pclass</th>\n",
       "      <th>Name</th>\n",
       "      <th>Sex</th>\n",
       "      <th>Age</th>\n",
       "      <th>SibSp</th>\n",
       "      <th>Parch</th>\n",
       "      <th>Fare</th>\n",
       "    </tr>\n",
       "  </thead>\n",
       "  <tbody>\n",
       "    <tr>\n",
       "      <th>0</th>\n",
       "      <td>1</td>\n",
       "      <td>0</td>\n",
       "      <td>3</td>\n",
       "      <td>Braund</td>\n",
       "      <td>male</td>\n",
       "      <td>22.0</td>\n",
       "      <td>1</td>\n",
       "      <td>0</td>\n",
       "      <td>7.2500</td>\n",
       "    </tr>\n",
       "    <tr>\n",
       "      <th>1</th>\n",
       "      <td>2</td>\n",
       "      <td>1</td>\n",
       "      <td>1</td>\n",
       "      <td>Cumings</td>\n",
       "      <td>female</td>\n",
       "      <td>38.0</td>\n",
       "      <td>1</td>\n",
       "      <td>0</td>\n",
       "      <td>71.2833</td>\n",
       "    </tr>\n",
       "    <tr>\n",
       "      <th>2</th>\n",
       "      <td>3</td>\n",
       "      <td>1</td>\n",
       "      <td>3</td>\n",
       "      <td>Heikkinen</td>\n",
       "      <td>female</td>\n",
       "      <td>26.0</td>\n",
       "      <td>0</td>\n",
       "      <td>0</td>\n",
       "      <td>7.9250</td>\n",
       "    </tr>\n",
       "    <tr>\n",
       "      <th>3</th>\n",
       "      <td>4</td>\n",
       "      <td>1</td>\n",
       "      <td>1</td>\n",
       "      <td>Futrelle</td>\n",
       "      <td>female</td>\n",
       "      <td>35.0</td>\n",
       "      <td>1</td>\n",
       "      <td>0</td>\n",
       "      <td>53.1000</td>\n",
       "    </tr>\n",
       "    <tr>\n",
       "      <th>4</th>\n",
       "      <td>5</td>\n",
       "      <td>0</td>\n",
       "      <td>3</td>\n",
       "      <td>Allen</td>\n",
       "      <td>male</td>\n",
       "      <td>35.0</td>\n",
       "      <td>0</td>\n",
       "      <td>0</td>\n",
       "      <td>8.0500</td>\n",
       "    </tr>\n",
       "    <tr>\n",
       "      <th>...</th>\n",
       "      <td>...</td>\n",
       "      <td>...</td>\n",
       "      <td>...</td>\n",
       "      <td>...</td>\n",
       "      <td>...</td>\n",
       "      <td>...</td>\n",
       "      <td>...</td>\n",
       "      <td>...</td>\n",
       "      <td>...</td>\n",
       "    </tr>\n",
       "    <tr>\n",
       "      <th>886</th>\n",
       "      <td>887</td>\n",
       "      <td>0</td>\n",
       "      <td>2</td>\n",
       "      <td>Montvila</td>\n",
       "      <td>male</td>\n",
       "      <td>27.0</td>\n",
       "      <td>0</td>\n",
       "      <td>0</td>\n",
       "      <td>13.0000</td>\n",
       "    </tr>\n",
       "    <tr>\n",
       "      <th>887</th>\n",
       "      <td>888</td>\n",
       "      <td>1</td>\n",
       "      <td>1</td>\n",
       "      <td>Graham</td>\n",
       "      <td>female</td>\n",
       "      <td>19.0</td>\n",
       "      <td>0</td>\n",
       "      <td>0</td>\n",
       "      <td>30.0000</td>\n",
       "    </tr>\n",
       "    <tr>\n",
       "      <th>888</th>\n",
       "      <td>889</td>\n",
       "      <td>0</td>\n",
       "      <td>3</td>\n",
       "      <td>Johnston</td>\n",
       "      <td>female</td>\n",
       "      <td>NaN</td>\n",
       "      <td>1</td>\n",
       "      <td>2</td>\n",
       "      <td>23.4500</td>\n",
       "    </tr>\n",
       "    <tr>\n",
       "      <th>889</th>\n",
       "      <td>890</td>\n",
       "      <td>1</td>\n",
       "      <td>1</td>\n",
       "      <td>Behr</td>\n",
       "      <td>male</td>\n",
       "      <td>26.0</td>\n",
       "      <td>0</td>\n",
       "      <td>0</td>\n",
       "      <td>30.0000</td>\n",
       "    </tr>\n",
       "    <tr>\n",
       "      <th>890</th>\n",
       "      <td>891</td>\n",
       "      <td>0</td>\n",
       "      <td>3</td>\n",
       "      <td>Dooley</td>\n",
       "      <td>male</td>\n",
       "      <td>32.0</td>\n",
       "      <td>0</td>\n",
       "      <td>0</td>\n",
       "      <td>7.7500</td>\n",
       "    </tr>\n",
       "  </tbody>\n",
       "</table>\n",
       "<p>891 rows × 9 columns</p>\n",
       "</div>"
      ],
      "text/plain": [
       "     PassengerId  Survived  Pclass       Name     Sex   Age  SibSp  Parch  \\\n",
       "0              1         0       3     Braund    male  22.0      1      0   \n",
       "1              2         1       1    Cumings  female  38.0      1      0   \n",
       "2              3         1       3  Heikkinen  female  26.0      0      0   \n",
       "3              4         1       1   Futrelle  female  35.0      1      0   \n",
       "4              5         0       3      Allen    male  35.0      0      0   \n",
       "..           ...       ...     ...        ...     ...   ...    ...    ...   \n",
       "886          887         0       2   Montvila    male  27.0      0      0   \n",
       "887          888         1       1     Graham  female  19.0      0      0   \n",
       "888          889         0       3   Johnston  female   NaN      1      2   \n",
       "889          890         1       1       Behr    male  26.0      0      0   \n",
       "890          891         0       3     Dooley    male  32.0      0      0   \n",
       "\n",
       "        Fare  \n",
       "0     7.2500  \n",
       "1    71.2833  \n",
       "2     7.9250  \n",
       "3    53.1000  \n",
       "4     8.0500  \n",
       "..       ...  \n",
       "886  13.0000  \n",
       "887  30.0000  \n",
       "888  23.4500  \n",
       "889  30.0000  \n",
       "890   7.7500  \n",
       "\n",
       "[891 rows x 9 columns]"
      ]
     },
     "execution_count": 11,
     "metadata": {},
     "output_type": "execute_result"
    }
   ],
   "source": [
    "df"
   ]
  },
  {
   "cell_type": "code",
   "execution_count": 12,
   "id": "111e3cd7",
   "metadata": {
    "execution": {
     "iopub.execute_input": "2024-09-09T15:53:14.790858Z",
     "iopub.status.busy": "2024-09-09T15:53:14.790070Z",
     "iopub.status.idle": "2024-09-09T15:53:16.837949Z",
     "shell.execute_reply": "2024-09-09T15:53:16.836813Z"
    },
    "papermill": {
     "duration": 2.062044,
     "end_time": "2024-09-09T15:53:16.840447",
     "exception": false,
     "start_time": "2024-09-09T15:53:14.778403",
     "status": "completed"
    },
    "tags": []
   },
   "outputs": [],
   "source": [
    "import seaborn as sns\n",
    "import matplotlib.pyplot as plt\n",
    "import plotly.express as px"
   ]
  },
  {
   "cell_type": "code",
   "execution_count": 13,
   "id": "81f4c623",
   "metadata": {
    "execution": {
     "iopub.execute_input": "2024-09-09T15:53:16.862765Z",
     "iopub.status.busy": "2024-09-09T15:53:16.862203Z",
     "iopub.status.idle": "2024-09-09T15:53:18.596255Z",
     "shell.execute_reply": "2024-09-09T15:53:18.595266Z"
    },
    "papermill": {
     "duration": 1.747667,
     "end_time": "2024-09-09T15:53:18.598425",
     "exception": false,
     "start_time": "2024-09-09T15:53:16.850758",
     "status": "completed"
    },
    "tags": []
   },
   "outputs": [
    {
     "data": {
      "text/html": [
       "        <script type=\"text/javascript\">\n",
       "        window.PlotlyConfig = {MathJaxConfig: 'local'};\n",
       "        if (window.MathJax && window.MathJax.Hub && window.MathJax.Hub.Config) {window.MathJax.Hub.Config({SVG: {font: \"STIX-Web\"}});}\n",
       "        if (typeof require !== 'undefined') {\n",
       "        require.undef(\"plotly\");\n",
       "        requirejs.config({\n",
       "            paths: {\n",
       "                'plotly': ['https://cdn.plot.ly/plotly-2.32.0.min']\n",
       "            }\n",
       "        });\n",
       "        require(['plotly'], function(Plotly) {\n",
       "            window._Plotly = Plotly;\n",
       "        });\n",
       "        }\n",
       "        </script>\n",
       "        "
      ]
     },
     "metadata": {},
     "output_type": "display_data"
    },
    {
     "data": {
      "text/html": [
       "<div>                            <div id=\"c8ae209a-8039-46e8-80bd-67545c29b580\" class=\"plotly-graph-div\" style=\"height:525px; width:100%;\"></div>            <script type=\"text/javascript\">                require([\"plotly\"], function(Plotly) {                    window.PLOTLYENV=window.PLOTLYENV || {};                                    if (document.getElementById(\"c8ae209a-8039-46e8-80bd-67545c29b580\")) {                    Plotly.newPlot(                        \"c8ae209a-8039-46e8-80bd-67545c29b580\",                        [{\"alignmentgroup\":\"True\",\"hovertemplate\":\"Survived=%{x}\\u003cbr\\u003eCount=%{text}\\u003cextra\\u003e\\u003c\\u002fextra\\u003e\",\"legendgroup\":\"\",\"marker\":{\"color\":\"#636efa\",\"pattern\":{\"shape\":\"\"}},\"name\":\"\",\"offsetgroup\":\"\",\"orientation\":\"v\",\"showlegend\":false,\"text\":[549.0,342.0],\"textposition\":\"outside\",\"x\":[0,1],\"xaxis\":\"x\",\"y\":[549,342],\"yaxis\":\"y\",\"type\":\"bar\",\"texttemplate\":\"%{text}\"}],                        {\"template\":{\"data\":{\"histogram2dcontour\":[{\"type\":\"histogram2dcontour\",\"colorbar\":{\"outlinewidth\":0,\"ticks\":\"\"},\"colorscale\":[[0.0,\"#0d0887\"],[0.1111111111111111,\"#46039f\"],[0.2222222222222222,\"#7201a8\"],[0.3333333333333333,\"#9c179e\"],[0.4444444444444444,\"#bd3786\"],[0.5555555555555556,\"#d8576b\"],[0.6666666666666666,\"#ed7953\"],[0.7777777777777778,\"#fb9f3a\"],[0.8888888888888888,\"#fdca26\"],[1.0,\"#f0f921\"]]}],\"choropleth\":[{\"type\":\"choropleth\",\"colorbar\":{\"outlinewidth\":0,\"ticks\":\"\"}}],\"histogram2d\":[{\"type\":\"histogram2d\",\"colorbar\":{\"outlinewidth\":0,\"ticks\":\"\"},\"colorscale\":[[0.0,\"#0d0887\"],[0.1111111111111111,\"#46039f\"],[0.2222222222222222,\"#7201a8\"],[0.3333333333333333,\"#9c179e\"],[0.4444444444444444,\"#bd3786\"],[0.5555555555555556,\"#d8576b\"],[0.6666666666666666,\"#ed7953\"],[0.7777777777777778,\"#fb9f3a\"],[0.8888888888888888,\"#fdca26\"],[1.0,\"#f0f921\"]]}],\"heatmap\":[{\"type\":\"heatmap\",\"colorbar\":{\"outlinewidth\":0,\"ticks\":\"\"},\"colorscale\":[[0.0,\"#0d0887\"],[0.1111111111111111,\"#46039f\"],[0.2222222222222222,\"#7201a8\"],[0.3333333333333333,\"#9c179e\"],[0.4444444444444444,\"#bd3786\"],[0.5555555555555556,\"#d8576b\"],[0.6666666666666666,\"#ed7953\"],[0.7777777777777778,\"#fb9f3a\"],[0.8888888888888888,\"#fdca26\"],[1.0,\"#f0f921\"]]}],\"heatmapgl\":[{\"type\":\"heatmapgl\",\"colorbar\":{\"outlinewidth\":0,\"ticks\":\"\"},\"colorscale\":[[0.0,\"#0d0887\"],[0.1111111111111111,\"#46039f\"],[0.2222222222222222,\"#7201a8\"],[0.3333333333333333,\"#9c179e\"],[0.4444444444444444,\"#bd3786\"],[0.5555555555555556,\"#d8576b\"],[0.6666666666666666,\"#ed7953\"],[0.7777777777777778,\"#fb9f3a\"],[0.8888888888888888,\"#fdca26\"],[1.0,\"#f0f921\"]]}],\"contourcarpet\":[{\"type\":\"contourcarpet\",\"colorbar\":{\"outlinewidth\":0,\"ticks\":\"\"}}],\"contour\":[{\"type\":\"contour\",\"colorbar\":{\"outlinewidth\":0,\"ticks\":\"\"},\"colorscale\":[[0.0,\"#0d0887\"],[0.1111111111111111,\"#46039f\"],[0.2222222222222222,\"#7201a8\"],[0.3333333333333333,\"#9c179e\"],[0.4444444444444444,\"#bd3786\"],[0.5555555555555556,\"#d8576b\"],[0.6666666666666666,\"#ed7953\"],[0.7777777777777778,\"#fb9f3a\"],[0.8888888888888888,\"#fdca26\"],[1.0,\"#f0f921\"]]}],\"surface\":[{\"type\":\"surface\",\"colorbar\":{\"outlinewidth\":0,\"ticks\":\"\"},\"colorscale\":[[0.0,\"#0d0887\"],[0.1111111111111111,\"#46039f\"],[0.2222222222222222,\"#7201a8\"],[0.3333333333333333,\"#9c179e\"],[0.4444444444444444,\"#bd3786\"],[0.5555555555555556,\"#d8576b\"],[0.6666666666666666,\"#ed7953\"],[0.7777777777777778,\"#fb9f3a\"],[0.8888888888888888,\"#fdca26\"],[1.0,\"#f0f921\"]]}],\"mesh3d\":[{\"type\":\"mesh3d\",\"colorbar\":{\"outlinewidth\":0,\"ticks\":\"\"}}],\"scatter\":[{\"fillpattern\":{\"fillmode\":\"overlay\",\"size\":10,\"solidity\":0.2},\"type\":\"scatter\"}],\"parcoords\":[{\"type\":\"parcoords\",\"line\":{\"colorbar\":{\"outlinewidth\":0,\"ticks\":\"\"}}}],\"scatterpolargl\":[{\"type\":\"scatterpolargl\",\"marker\":{\"colorbar\":{\"outlinewidth\":0,\"ticks\":\"\"}}}],\"bar\":[{\"error_x\":{\"color\":\"#2a3f5f\"},\"error_y\":{\"color\":\"#2a3f5f\"},\"marker\":{\"line\":{\"color\":\"#E5ECF6\",\"width\":0.5},\"pattern\":{\"fillmode\":\"overlay\",\"size\":10,\"solidity\":0.2}},\"type\":\"bar\"}],\"scattergeo\":[{\"type\":\"scattergeo\",\"marker\":{\"colorbar\":{\"outlinewidth\":0,\"ticks\":\"\"}}}],\"scatterpolar\":[{\"type\":\"scatterpolar\",\"marker\":{\"colorbar\":{\"outlinewidth\":0,\"ticks\":\"\"}}}],\"histogram\":[{\"marker\":{\"pattern\":{\"fillmode\":\"overlay\",\"size\":10,\"solidity\":0.2}},\"type\":\"histogram\"}],\"scattergl\":[{\"type\":\"scattergl\",\"marker\":{\"colorbar\":{\"outlinewidth\":0,\"ticks\":\"\"}}}],\"scatter3d\":[{\"type\":\"scatter3d\",\"line\":{\"colorbar\":{\"outlinewidth\":0,\"ticks\":\"\"}},\"marker\":{\"colorbar\":{\"outlinewidth\":0,\"ticks\":\"\"}}}],\"scattermapbox\":[{\"type\":\"scattermapbox\",\"marker\":{\"colorbar\":{\"outlinewidth\":0,\"ticks\":\"\"}}}],\"scatterternary\":[{\"type\":\"scatterternary\",\"marker\":{\"colorbar\":{\"outlinewidth\":0,\"ticks\":\"\"}}}],\"scattercarpet\":[{\"type\":\"scattercarpet\",\"marker\":{\"colorbar\":{\"outlinewidth\":0,\"ticks\":\"\"}}}],\"carpet\":[{\"aaxis\":{\"endlinecolor\":\"#2a3f5f\",\"gridcolor\":\"white\",\"linecolor\":\"white\",\"minorgridcolor\":\"white\",\"startlinecolor\":\"#2a3f5f\"},\"baxis\":{\"endlinecolor\":\"#2a3f5f\",\"gridcolor\":\"white\",\"linecolor\":\"white\",\"minorgridcolor\":\"white\",\"startlinecolor\":\"#2a3f5f\"},\"type\":\"carpet\"}],\"table\":[{\"cells\":{\"fill\":{\"color\":\"#EBF0F8\"},\"line\":{\"color\":\"white\"}},\"header\":{\"fill\":{\"color\":\"#C8D4E3\"},\"line\":{\"color\":\"white\"}},\"type\":\"table\"}],\"barpolar\":[{\"marker\":{\"line\":{\"color\":\"#E5ECF6\",\"width\":0.5},\"pattern\":{\"fillmode\":\"overlay\",\"size\":10,\"solidity\":0.2}},\"type\":\"barpolar\"}],\"pie\":[{\"automargin\":true,\"type\":\"pie\"}]},\"layout\":{\"autotypenumbers\":\"strict\",\"colorway\":[\"#636efa\",\"#EF553B\",\"#00cc96\",\"#ab63fa\",\"#FFA15A\",\"#19d3f3\",\"#FF6692\",\"#B6E880\",\"#FF97FF\",\"#FECB52\"],\"font\":{\"color\":\"#2a3f5f\"},\"hovermode\":\"closest\",\"hoverlabel\":{\"align\":\"left\"},\"paper_bgcolor\":\"white\",\"plot_bgcolor\":\"#E5ECF6\",\"polar\":{\"bgcolor\":\"#E5ECF6\",\"angularaxis\":{\"gridcolor\":\"white\",\"linecolor\":\"white\",\"ticks\":\"\"},\"radialaxis\":{\"gridcolor\":\"white\",\"linecolor\":\"white\",\"ticks\":\"\"}},\"ternary\":{\"bgcolor\":\"#E5ECF6\",\"aaxis\":{\"gridcolor\":\"white\",\"linecolor\":\"white\",\"ticks\":\"\"},\"baxis\":{\"gridcolor\":\"white\",\"linecolor\":\"white\",\"ticks\":\"\"},\"caxis\":{\"gridcolor\":\"white\",\"linecolor\":\"white\",\"ticks\":\"\"}},\"coloraxis\":{\"colorbar\":{\"outlinewidth\":0,\"ticks\":\"\"}},\"colorscale\":{\"sequential\":[[0.0,\"#0d0887\"],[0.1111111111111111,\"#46039f\"],[0.2222222222222222,\"#7201a8\"],[0.3333333333333333,\"#9c179e\"],[0.4444444444444444,\"#bd3786\"],[0.5555555555555556,\"#d8576b\"],[0.6666666666666666,\"#ed7953\"],[0.7777777777777778,\"#fb9f3a\"],[0.8888888888888888,\"#fdca26\"],[1.0,\"#f0f921\"]],\"sequentialminus\":[[0.0,\"#0d0887\"],[0.1111111111111111,\"#46039f\"],[0.2222222222222222,\"#7201a8\"],[0.3333333333333333,\"#9c179e\"],[0.4444444444444444,\"#bd3786\"],[0.5555555555555556,\"#d8576b\"],[0.6666666666666666,\"#ed7953\"],[0.7777777777777778,\"#fb9f3a\"],[0.8888888888888888,\"#fdca26\"],[1.0,\"#f0f921\"]],\"diverging\":[[0,\"#8e0152\"],[0.1,\"#c51b7d\"],[0.2,\"#de77ae\"],[0.3,\"#f1b6da\"],[0.4,\"#fde0ef\"],[0.5,\"#f7f7f7\"],[0.6,\"#e6f5d0\"],[0.7,\"#b8e186\"],[0.8,\"#7fbc41\"],[0.9,\"#4d9221\"],[1,\"#276419\"]]},\"xaxis\":{\"gridcolor\":\"white\",\"linecolor\":\"white\",\"ticks\":\"\",\"title\":{\"standoff\":15},\"zerolinecolor\":\"white\",\"automargin\":true,\"zerolinewidth\":2},\"yaxis\":{\"gridcolor\":\"white\",\"linecolor\":\"white\",\"ticks\":\"\",\"title\":{\"standoff\":15},\"zerolinecolor\":\"white\",\"automargin\":true,\"zerolinewidth\":2},\"scene\":{\"xaxis\":{\"backgroundcolor\":\"#E5ECF6\",\"gridcolor\":\"white\",\"linecolor\":\"white\",\"showbackground\":true,\"ticks\":\"\",\"zerolinecolor\":\"white\",\"gridwidth\":2},\"yaxis\":{\"backgroundcolor\":\"#E5ECF6\",\"gridcolor\":\"white\",\"linecolor\":\"white\",\"showbackground\":true,\"ticks\":\"\",\"zerolinecolor\":\"white\",\"gridwidth\":2},\"zaxis\":{\"backgroundcolor\":\"#E5ECF6\",\"gridcolor\":\"white\",\"linecolor\":\"white\",\"showbackground\":true,\"ticks\":\"\",\"zerolinecolor\":\"white\",\"gridwidth\":2}},\"shapedefaults\":{\"line\":{\"color\":\"#2a3f5f\"}},\"annotationdefaults\":{\"arrowcolor\":\"#2a3f5f\",\"arrowhead\":0,\"arrowwidth\":1},\"geo\":{\"bgcolor\":\"white\",\"landcolor\":\"#E5ECF6\",\"subunitcolor\":\"white\",\"showland\":true,\"showlakes\":true,\"lakecolor\":\"white\"},\"title\":{\"x\":0.05},\"mapbox\":{\"style\":\"light\"}}},\"xaxis\":{\"anchor\":\"y\",\"domain\":[0.0,1.0],\"title\":{\"text\":\"Survived\"}},\"yaxis\":{\"anchor\":\"x\",\"domain\":[0.0,1.0],\"title\":{\"text\":\"Count\"}},\"legend\":{\"tracegroupgap\":0},\"title\":{\"text\":\"Count of Survival Categories\"},\"barmode\":\"relative\"},                        {\"responsive\": true}                    ).then(function(){\n",
       "                            \n",
       "var gd = document.getElementById('c8ae209a-8039-46e8-80bd-67545c29b580');\n",
       "var x = new MutationObserver(function (mutations, observer) {{\n",
       "        var display = window.getComputedStyle(gd).display;\n",
       "        if (!display || display === 'none') {{\n",
       "            console.log([gd, 'removed!']);\n",
       "            Plotly.purge(gd);\n",
       "            observer.disconnect();\n",
       "        }}\n",
       "}});\n",
       "\n",
       "// Listen for the removal of the full notebook cells\n",
       "var notebookContainer = gd.closest('#notebook-container');\n",
       "if (notebookContainer) {{\n",
       "    x.observe(notebookContainer, {childList: true});\n",
       "}}\n",
       "\n",
       "// Listen for the clearing of the current output cell\n",
       "var outputEl = gd.closest('.output');\n",
       "if (outputEl) {{\n",
       "    x.observe(outputEl, {childList: true});\n",
       "}}\n",
       "\n",
       "                        })                };                });            </script>        </div>"
      ]
     },
     "metadata": {},
     "output_type": "display_data"
    }
   ],
   "source": [
    "survival_count=df['Survived'].value_counts().reset_index()\n",
    "survival_count.columns=['Survived','Count']\n",
    "\n",
    "fig = px.bar(survival_count, x='Survived', y='Count', text='Count', title='Count of Survival Categories')\n",
    "\n",
    "fig.update_traces(texttemplate='%{text}', textposition='outside')\n",
    "\n",
    "fig.show()"
   ]
  },
  {
   "cell_type": "code",
   "execution_count": 14,
   "id": "fbd03875",
   "metadata": {
    "execution": {
     "iopub.execute_input": "2024-09-09T15:53:18.621796Z",
     "iopub.status.busy": "2024-09-09T15:53:18.621412Z",
     "iopub.status.idle": "2024-09-09T15:53:18.683557Z",
     "shell.execute_reply": "2024-09-09T15:53:18.682308Z"
    },
    "papermill": {
     "duration": 0.076474,
     "end_time": "2024-09-09T15:53:18.685791",
     "exception": false,
     "start_time": "2024-09-09T15:53:18.609317",
     "status": "completed"
    },
    "tags": []
   },
   "outputs": [
    {
     "data": {
      "text/html": [
       "<div>                            <div id=\"c169e40b-74e1-49c6-b743-f655a86dda2f\" class=\"plotly-graph-div\" style=\"height:525px; width:100%;\"></div>            <script type=\"text/javascript\">                require([\"plotly\"], function(Plotly) {                    window.PLOTLYENV=window.PLOTLYENV || {};                                    if (document.getElementById(\"c169e40b-74e1-49c6-b743-f655a86dda2f\")) {                    Plotly.newPlot(                        \"c169e40b-74e1-49c6-b743-f655a86dda2f\",                        [{\"alignmentgroup\":\"True\",\"hovertemplate\":\"Sex=%{x}\\u003cbr\\u003eCount=%{text}\\u003cextra\\u003e\\u003c\\u002fextra\\u003e\",\"legendgroup\":\"\",\"marker\":{\"color\":\"#636efa\",\"pattern\":{\"shape\":\"\"}},\"name\":\"\",\"offsetgroup\":\"\",\"orientation\":\"v\",\"showlegend\":false,\"text\":[577.0,314.0],\"textposition\":\"outside\",\"x\":[\"male\",\"female\"],\"xaxis\":\"x\",\"y\":[577,314],\"yaxis\":\"y\",\"type\":\"bar\",\"texttemplate\":\"%{text}\"}],                        {\"template\":{\"data\":{\"histogram2dcontour\":[{\"type\":\"histogram2dcontour\",\"colorbar\":{\"outlinewidth\":0,\"ticks\":\"\"},\"colorscale\":[[0.0,\"#0d0887\"],[0.1111111111111111,\"#46039f\"],[0.2222222222222222,\"#7201a8\"],[0.3333333333333333,\"#9c179e\"],[0.4444444444444444,\"#bd3786\"],[0.5555555555555556,\"#d8576b\"],[0.6666666666666666,\"#ed7953\"],[0.7777777777777778,\"#fb9f3a\"],[0.8888888888888888,\"#fdca26\"],[1.0,\"#f0f921\"]]}],\"choropleth\":[{\"type\":\"choropleth\",\"colorbar\":{\"outlinewidth\":0,\"ticks\":\"\"}}],\"histogram2d\":[{\"type\":\"histogram2d\",\"colorbar\":{\"outlinewidth\":0,\"ticks\":\"\"},\"colorscale\":[[0.0,\"#0d0887\"],[0.1111111111111111,\"#46039f\"],[0.2222222222222222,\"#7201a8\"],[0.3333333333333333,\"#9c179e\"],[0.4444444444444444,\"#bd3786\"],[0.5555555555555556,\"#d8576b\"],[0.6666666666666666,\"#ed7953\"],[0.7777777777777778,\"#fb9f3a\"],[0.8888888888888888,\"#fdca26\"],[1.0,\"#f0f921\"]]}],\"heatmap\":[{\"type\":\"heatmap\",\"colorbar\":{\"outlinewidth\":0,\"ticks\":\"\"},\"colorscale\":[[0.0,\"#0d0887\"],[0.1111111111111111,\"#46039f\"],[0.2222222222222222,\"#7201a8\"],[0.3333333333333333,\"#9c179e\"],[0.4444444444444444,\"#bd3786\"],[0.5555555555555556,\"#d8576b\"],[0.6666666666666666,\"#ed7953\"],[0.7777777777777778,\"#fb9f3a\"],[0.8888888888888888,\"#fdca26\"],[1.0,\"#f0f921\"]]}],\"heatmapgl\":[{\"type\":\"heatmapgl\",\"colorbar\":{\"outlinewidth\":0,\"ticks\":\"\"},\"colorscale\":[[0.0,\"#0d0887\"],[0.1111111111111111,\"#46039f\"],[0.2222222222222222,\"#7201a8\"],[0.3333333333333333,\"#9c179e\"],[0.4444444444444444,\"#bd3786\"],[0.5555555555555556,\"#d8576b\"],[0.6666666666666666,\"#ed7953\"],[0.7777777777777778,\"#fb9f3a\"],[0.8888888888888888,\"#fdca26\"],[1.0,\"#f0f921\"]]}],\"contourcarpet\":[{\"type\":\"contourcarpet\",\"colorbar\":{\"outlinewidth\":0,\"ticks\":\"\"}}],\"contour\":[{\"type\":\"contour\",\"colorbar\":{\"outlinewidth\":0,\"ticks\":\"\"},\"colorscale\":[[0.0,\"#0d0887\"],[0.1111111111111111,\"#46039f\"],[0.2222222222222222,\"#7201a8\"],[0.3333333333333333,\"#9c179e\"],[0.4444444444444444,\"#bd3786\"],[0.5555555555555556,\"#d8576b\"],[0.6666666666666666,\"#ed7953\"],[0.7777777777777778,\"#fb9f3a\"],[0.8888888888888888,\"#fdca26\"],[1.0,\"#f0f921\"]]}],\"surface\":[{\"type\":\"surface\",\"colorbar\":{\"outlinewidth\":0,\"ticks\":\"\"},\"colorscale\":[[0.0,\"#0d0887\"],[0.1111111111111111,\"#46039f\"],[0.2222222222222222,\"#7201a8\"],[0.3333333333333333,\"#9c179e\"],[0.4444444444444444,\"#bd3786\"],[0.5555555555555556,\"#d8576b\"],[0.6666666666666666,\"#ed7953\"],[0.7777777777777778,\"#fb9f3a\"],[0.8888888888888888,\"#fdca26\"],[1.0,\"#f0f921\"]]}],\"mesh3d\":[{\"type\":\"mesh3d\",\"colorbar\":{\"outlinewidth\":0,\"ticks\":\"\"}}],\"scatter\":[{\"fillpattern\":{\"fillmode\":\"overlay\",\"size\":10,\"solidity\":0.2},\"type\":\"scatter\"}],\"parcoords\":[{\"type\":\"parcoords\",\"line\":{\"colorbar\":{\"outlinewidth\":0,\"ticks\":\"\"}}}],\"scatterpolargl\":[{\"type\":\"scatterpolargl\",\"marker\":{\"colorbar\":{\"outlinewidth\":0,\"ticks\":\"\"}}}],\"bar\":[{\"error_x\":{\"color\":\"#2a3f5f\"},\"error_y\":{\"color\":\"#2a3f5f\"},\"marker\":{\"line\":{\"color\":\"#E5ECF6\",\"width\":0.5},\"pattern\":{\"fillmode\":\"overlay\",\"size\":10,\"solidity\":0.2}},\"type\":\"bar\"}],\"scattergeo\":[{\"type\":\"scattergeo\",\"marker\":{\"colorbar\":{\"outlinewidth\":0,\"ticks\":\"\"}}}],\"scatterpolar\":[{\"type\":\"scatterpolar\",\"marker\":{\"colorbar\":{\"outlinewidth\":0,\"ticks\":\"\"}}}],\"histogram\":[{\"marker\":{\"pattern\":{\"fillmode\":\"overlay\",\"size\":10,\"solidity\":0.2}},\"type\":\"histogram\"}],\"scattergl\":[{\"type\":\"scattergl\",\"marker\":{\"colorbar\":{\"outlinewidth\":0,\"ticks\":\"\"}}}],\"scatter3d\":[{\"type\":\"scatter3d\",\"line\":{\"colorbar\":{\"outlinewidth\":0,\"ticks\":\"\"}},\"marker\":{\"colorbar\":{\"outlinewidth\":0,\"ticks\":\"\"}}}],\"scattermapbox\":[{\"type\":\"scattermapbox\",\"marker\":{\"colorbar\":{\"outlinewidth\":0,\"ticks\":\"\"}}}],\"scatterternary\":[{\"type\":\"scatterternary\",\"marker\":{\"colorbar\":{\"outlinewidth\":0,\"ticks\":\"\"}}}],\"scattercarpet\":[{\"type\":\"scattercarpet\",\"marker\":{\"colorbar\":{\"outlinewidth\":0,\"ticks\":\"\"}}}],\"carpet\":[{\"aaxis\":{\"endlinecolor\":\"#2a3f5f\",\"gridcolor\":\"white\",\"linecolor\":\"white\",\"minorgridcolor\":\"white\",\"startlinecolor\":\"#2a3f5f\"},\"baxis\":{\"endlinecolor\":\"#2a3f5f\",\"gridcolor\":\"white\",\"linecolor\":\"white\",\"minorgridcolor\":\"white\",\"startlinecolor\":\"#2a3f5f\"},\"type\":\"carpet\"}],\"table\":[{\"cells\":{\"fill\":{\"color\":\"#EBF0F8\"},\"line\":{\"color\":\"white\"}},\"header\":{\"fill\":{\"color\":\"#C8D4E3\"},\"line\":{\"color\":\"white\"}},\"type\":\"table\"}],\"barpolar\":[{\"marker\":{\"line\":{\"color\":\"#E5ECF6\",\"width\":0.5},\"pattern\":{\"fillmode\":\"overlay\",\"size\":10,\"solidity\":0.2}},\"type\":\"barpolar\"}],\"pie\":[{\"automargin\":true,\"type\":\"pie\"}]},\"layout\":{\"autotypenumbers\":\"strict\",\"colorway\":[\"#636efa\",\"#EF553B\",\"#00cc96\",\"#ab63fa\",\"#FFA15A\",\"#19d3f3\",\"#FF6692\",\"#B6E880\",\"#FF97FF\",\"#FECB52\"],\"font\":{\"color\":\"#2a3f5f\"},\"hovermode\":\"closest\",\"hoverlabel\":{\"align\":\"left\"},\"paper_bgcolor\":\"white\",\"plot_bgcolor\":\"#E5ECF6\",\"polar\":{\"bgcolor\":\"#E5ECF6\",\"angularaxis\":{\"gridcolor\":\"white\",\"linecolor\":\"white\",\"ticks\":\"\"},\"radialaxis\":{\"gridcolor\":\"white\",\"linecolor\":\"white\",\"ticks\":\"\"}},\"ternary\":{\"bgcolor\":\"#E5ECF6\",\"aaxis\":{\"gridcolor\":\"white\",\"linecolor\":\"white\",\"ticks\":\"\"},\"baxis\":{\"gridcolor\":\"white\",\"linecolor\":\"white\",\"ticks\":\"\"},\"caxis\":{\"gridcolor\":\"white\",\"linecolor\":\"white\",\"ticks\":\"\"}},\"coloraxis\":{\"colorbar\":{\"outlinewidth\":0,\"ticks\":\"\"}},\"colorscale\":{\"sequential\":[[0.0,\"#0d0887\"],[0.1111111111111111,\"#46039f\"],[0.2222222222222222,\"#7201a8\"],[0.3333333333333333,\"#9c179e\"],[0.4444444444444444,\"#bd3786\"],[0.5555555555555556,\"#d8576b\"],[0.6666666666666666,\"#ed7953\"],[0.7777777777777778,\"#fb9f3a\"],[0.8888888888888888,\"#fdca26\"],[1.0,\"#f0f921\"]],\"sequentialminus\":[[0.0,\"#0d0887\"],[0.1111111111111111,\"#46039f\"],[0.2222222222222222,\"#7201a8\"],[0.3333333333333333,\"#9c179e\"],[0.4444444444444444,\"#bd3786\"],[0.5555555555555556,\"#d8576b\"],[0.6666666666666666,\"#ed7953\"],[0.7777777777777778,\"#fb9f3a\"],[0.8888888888888888,\"#fdca26\"],[1.0,\"#f0f921\"]],\"diverging\":[[0,\"#8e0152\"],[0.1,\"#c51b7d\"],[0.2,\"#de77ae\"],[0.3,\"#f1b6da\"],[0.4,\"#fde0ef\"],[0.5,\"#f7f7f7\"],[0.6,\"#e6f5d0\"],[0.7,\"#b8e186\"],[0.8,\"#7fbc41\"],[0.9,\"#4d9221\"],[1,\"#276419\"]]},\"xaxis\":{\"gridcolor\":\"white\",\"linecolor\":\"white\",\"ticks\":\"\",\"title\":{\"standoff\":15},\"zerolinecolor\":\"white\",\"automargin\":true,\"zerolinewidth\":2},\"yaxis\":{\"gridcolor\":\"white\",\"linecolor\":\"white\",\"ticks\":\"\",\"title\":{\"standoff\":15},\"zerolinecolor\":\"white\",\"automargin\":true,\"zerolinewidth\":2},\"scene\":{\"xaxis\":{\"backgroundcolor\":\"#E5ECF6\",\"gridcolor\":\"white\",\"linecolor\":\"white\",\"showbackground\":true,\"ticks\":\"\",\"zerolinecolor\":\"white\",\"gridwidth\":2},\"yaxis\":{\"backgroundcolor\":\"#E5ECF6\",\"gridcolor\":\"white\",\"linecolor\":\"white\",\"showbackground\":true,\"ticks\":\"\",\"zerolinecolor\":\"white\",\"gridwidth\":2},\"zaxis\":{\"backgroundcolor\":\"#E5ECF6\",\"gridcolor\":\"white\",\"linecolor\":\"white\",\"showbackground\":true,\"ticks\":\"\",\"zerolinecolor\":\"white\",\"gridwidth\":2}},\"shapedefaults\":{\"line\":{\"color\":\"#2a3f5f\"}},\"annotationdefaults\":{\"arrowcolor\":\"#2a3f5f\",\"arrowhead\":0,\"arrowwidth\":1},\"geo\":{\"bgcolor\":\"white\",\"landcolor\":\"#E5ECF6\",\"subunitcolor\":\"white\",\"showland\":true,\"showlakes\":true,\"lakecolor\":\"white\"},\"title\":{\"x\":0.05},\"mapbox\":{\"style\":\"light\"}}},\"xaxis\":{\"anchor\":\"y\",\"domain\":[0.0,1.0],\"title\":{\"text\":\"Sex\"}},\"yaxis\":{\"anchor\":\"x\",\"domain\":[0.0,1.0],\"title\":{\"text\":\"Count\"}},\"legend\":{\"tracegroupgap\":0},\"title\":{\"text\":\"Count of Gender Categories\"},\"barmode\":\"relative\"},                        {\"responsive\": true}                    ).then(function(){\n",
       "                            \n",
       "var gd = document.getElementById('c169e40b-74e1-49c6-b743-f655a86dda2f');\n",
       "var x = new MutationObserver(function (mutations, observer) {{\n",
       "        var display = window.getComputedStyle(gd).display;\n",
       "        if (!display || display === 'none') {{\n",
       "            console.log([gd, 'removed!']);\n",
       "            Plotly.purge(gd);\n",
       "            observer.disconnect();\n",
       "        }}\n",
       "}});\n",
       "\n",
       "// Listen for the removal of the full notebook cells\n",
       "var notebookContainer = gd.closest('#notebook-container');\n",
       "if (notebookContainer) {{\n",
       "    x.observe(notebookContainer, {childList: true});\n",
       "}}\n",
       "\n",
       "// Listen for the clearing of the current output cell\n",
       "var outputEl = gd.closest('.output');\n",
       "if (outputEl) {{\n",
       "    x.observe(outputEl, {childList: true});\n",
       "}}\n",
       "\n",
       "                        })                };                });            </script>        </div>"
      ]
     },
     "metadata": {},
     "output_type": "display_data"
    }
   ],
   "source": [
    "gender_count=df['Sex'].value_counts().reset_index()\n",
    "gender_count.columns=['Sex','Count']\n",
    "\n",
    "fig = px.bar(gender_count, x='Sex', y='Count', text='Count', title='Count of Gender Categories')\n",
    "\n",
    "fig.update_traces(texttemplate='%{text}', textposition='outside')\n",
    "\n",
    "fig.show()"
   ]
  },
  {
   "cell_type": "code",
   "execution_count": 15,
   "id": "13fe6a87",
   "metadata": {
    "execution": {
     "iopub.execute_input": "2024-09-09T15:53:18.710107Z",
     "iopub.status.busy": "2024-09-09T15:53:18.709698Z",
     "iopub.status.idle": "2024-09-09T15:53:18.716060Z",
     "shell.execute_reply": "2024-09-09T15:53:18.714939Z"
    },
    "papermill": {
     "duration": 0.020959,
     "end_time": "2024-09-09T15:53:18.718290",
     "exception": false,
     "start_time": "2024-09-09T15:53:18.697331",
     "status": "completed"
    },
    "tags": []
   },
   "outputs": [],
   "source": [
    "#converting Sex column to numeric type\n",
    "df['Sex']= df['Sex'].map({'male':0,'female':1})"
   ]
  },
  {
   "cell_type": "code",
   "execution_count": 16,
   "id": "bd981578",
   "metadata": {
    "execution": {
     "iopub.execute_input": "2024-09-09T15:53:18.741986Z",
     "iopub.status.busy": "2024-09-09T15:53:18.741574Z",
     "iopub.status.idle": "2024-09-09T15:53:19.124228Z",
     "shell.execute_reply": "2024-09-09T15:53:19.123099Z"
    },
    "papermill": {
     "duration": 0.397358,
     "end_time": "2024-09-09T15:53:19.126782",
     "exception": false,
     "start_time": "2024-09-09T15:53:18.729424",
     "status": "completed"
    },
    "tags": []
   },
   "outputs": [],
   "source": [
    "# Applying KNN to handle the missing values in the column Age\n",
    "from sklearn.impute import KNNImputer\n",
    "\n",
    "\n",
    "\n",
    "age_values=df[['Age']]\n",
    "\n",
    "imputer=KNNImputer(n_neighbors=3)\n",
    "\n",
    "df['Age']=imputer.fit_transform(age_values)\n",
    "\n"
   ]
  },
  {
   "cell_type": "code",
   "execution_count": 17,
   "id": "1feaac11",
   "metadata": {
    "execution": {
     "iopub.execute_input": "2024-09-09T15:53:19.151773Z",
     "iopub.status.busy": "2024-09-09T15:53:19.151331Z",
     "iopub.status.idle": "2024-09-09T15:53:19.160459Z",
     "shell.execute_reply": "2024-09-09T15:53:19.159432Z"
    },
    "papermill": {
     "duration": 0.023889,
     "end_time": "2024-09-09T15:53:19.162527",
     "exception": false,
     "start_time": "2024-09-09T15:53:19.138638",
     "status": "completed"
    },
    "tags": []
   },
   "outputs": [
    {
     "data": {
      "text/plain": [
       "PassengerId    0\n",
       "Survived       0\n",
       "Pclass         0\n",
       "Name           0\n",
       "Sex            0\n",
       "Age            0\n",
       "SibSp          0\n",
       "Parch          0\n",
       "Fare           0\n",
       "dtype: int64"
      ]
     },
     "execution_count": 17,
     "metadata": {},
     "output_type": "execute_result"
    }
   ],
   "source": [
    "df.isnull().sum()"
   ]
  },
  {
   "cell_type": "code",
   "execution_count": 18,
   "id": "c774821b",
   "metadata": {
    "execution": {
     "iopub.execute_input": "2024-09-09T15:53:19.186400Z",
     "iopub.status.busy": "2024-09-09T15:53:19.185930Z",
     "iopub.status.idle": "2024-09-09T15:53:19.387385Z",
     "shell.execute_reply": "2024-09-09T15:53:19.386183Z"
    },
    "papermill": {
     "duration": 0.216217,
     "end_time": "2024-09-09T15:53:19.389932",
     "exception": false,
     "start_time": "2024-09-09T15:53:19.173715",
     "status": "completed"
    },
    "tags": []
   },
   "outputs": [
    {
     "data": {
      "image/png": "[encoded data removed]",
      "text/plain": [
       "<Figure size 640x480 with 1 Axes>"
      ]
     },
     "metadata": {},
     "output_type": "display_data"
    }
   ],
   "source": [
    "ds= df['Age']\n",
    "\n",
    "sns.boxplot( x=df['Age'],color='skyblue')\n",
    "\n",
    "\n",
    "plt.xlabel('Age')\n",
    "\n",
    "plt.show()"
   ]
  },
  {
   "cell_type": "code",
   "execution_count": 19,
   "id": "c8d70bd1",
   "metadata": {
    "execution": {
     "iopub.execute_input": "2024-09-09T15:53:19.415213Z",
     "iopub.status.busy": "2024-09-09T15:53:19.414764Z",
     "iopub.status.idle": "2024-09-09T15:53:19.425273Z",
     "shell.execute_reply": "2024-09-09T15:53:19.423985Z"
    },
    "papermill": {
     "duration": 0.025863,
     "end_time": "2024-09-09T15:53:19.427385",
     "exception": false,
     "start_time": "2024-09-09T15:53:19.401522",
     "status": "completed"
    },
    "tags": []
   },
   "outputs": [
    {
     "name": "stdout",
     "output_type": "stream",
     "text": [
      "Q1 (25th percentile): 22.0\n",
      "Q2 (50th percentile/Median): 29.69911764705882\n",
      "Q3 (75th percentile): 35.0\n"
     ]
    }
   ],
   "source": [
    "Q1 = df['Age'].quantile(0.25)\n",
    "Q2 = df['Age'].quantile(0.50)\n",
    "Q3 = df['Age'].quantile(0.75)\n",
    "\n",
    "# Print the quartiles\n",
    "print(f\"Q1 (25th percentile): {Q1}\")\n",
    "print(f\"Q2 (50th percentile/Median): {Q2}\")\n",
    "print(f\"Q3 (75th percentile): {Q3}\")"
   ]
  },
  {
   "cell_type": "code",
   "execution_count": 20,
   "id": "ddb17540",
   "metadata": {
    "execution": {
     "iopub.execute_input": "2024-09-09T15:53:19.451987Z",
     "iopub.status.busy": "2024-09-09T15:53:19.451596Z",
     "iopub.status.idle": "2024-09-09T15:53:19.463070Z",
     "shell.execute_reply": "2024-09-09T15:53:19.462101Z"
    },
    "papermill": {
     "duration": 0.026526,
     "end_time": "2024-09-09T15:53:19.465449",
     "exception": false,
     "start_time": "2024-09-09T15:53:19.438923",
     "status": "completed"
    },
    "tags": []
   },
   "outputs": [
    {
     "name": "stdout",
     "output_type": "stream",
     "text": [
      "<class 'pandas.core.frame.DataFrame'>\n",
      "RangeIndex: 891 entries, 0 to 890\n",
      "Data columns (total 9 columns):\n",
      " #   Column       Non-Null Count  Dtype  \n",
      "---  ------       --------------  -----  \n",
      " 0   PassengerId  891 non-null    int64  \n",
      " 1   Survived     891 non-null    int64  \n",
      " 2   Pclass       891 non-null    int64  \n",
      " 3   Name         891 non-null    object \n",
      " 4   Sex          891 non-null    int64  \n",
      " 5   Age          891 non-null    float64\n",
      " 6   SibSp        891 non-null    int64  \n",
      " 7   Parch        891 non-null    int64  \n",
      " 8   Fare         891 non-null    float64\n",
      "dtypes: float64(2), int64(6), object(1)\n",
      "memory usage: 62.8+ KB\n"
     ]
    }
   ],
   "source": [
    "df.info()"
   ]
  },
  {
   "cell_type": "markdown",
   "id": "4fcf47f1",
   "metadata": {
    "papermill": {
     "duration": 0.011036,
     "end_time": "2024-09-09T15:53:19.487840",
     "exception": false,
     "start_time": "2024-09-09T15:53:19.476804",
     "status": "completed"
    },
    "tags": []
   },
   "source": [
    "#### selceting features and Target varible"
   ]
  },
  {
   "cell_type": "code",
   "execution_count": 21,
   "id": "3a28a981",
   "metadata": {
    "execution": {
     "iopub.execute_input": "2024-09-09T15:53:19.512954Z",
     "iopub.status.busy": "2024-09-09T15:53:19.511984Z",
     "iopub.status.idle": "2024-09-09T15:53:19.518284Z",
     "shell.execute_reply": "2024-09-09T15:53:19.517263Z"
    },
    "papermill": {
     "duration": 0.021109,
     "end_time": "2024-09-09T15:53:19.520435",
     "exception": false,
     "start_time": "2024-09-09T15:53:19.499326",
     "status": "completed"
    },
    "tags": []
   },
   "outputs": [],
   "source": [
    "#Features excluding 'Survived'\n",
    "X=df[['Pclass','Age', 'Sex','Fare','SibSp','Parch']]\n",
    "     \n",
    "#Target\n",
    "y=df['Survived']"
   ]
  },
  {
   "cell_type": "markdown",
   "id": "a64f2aca",
   "metadata": {
    "papermill": {
     "duration": 0.011177,
     "end_time": "2024-09-09T15:53:19.543154",
     "exception": false,
     "start_time": "2024-09-09T15:53:19.531977",
     "status": "completed"
    },
    "tags": []
   },
   "source": [
    "#### Train test Split"
   ]
  },
  {
   "cell_type": "code",
   "execution_count": 22,
   "id": "0d12e2cd",
   "metadata": {
    "execution": {
     "iopub.execute_input": "2024-09-09T15:53:19.567893Z",
     "iopub.status.busy": "2024-09-09T15:53:19.567152Z",
     "iopub.status.idle": "2024-09-09T15:53:32.056399Z",
     "shell.execute_reply": "2024-09-09T15:53:32.055037Z"
    },
    "papermill": {
     "duration": 12.504372,
     "end_time": "2024-09-09T15:53:32.058996",
     "exception": false,
     "start_time": "2024-09-09T15:53:19.554624",
     "status": "completed"
    },
    "tags": []
   },
   "outputs": [],
   "source": [
    "from sklearn.model_selection import train_test_split\n",
    "from sklearn.metrics import mean_squared_error, mean_absolute_error,r2_score\n",
    "from tensorflow.keras.losses import Huber\n",
    "\n",
    "X_train,X_test,y_train,y_test= train_test_split(X,y,test_size=0.3, random_state=40)"
   ]
  },
  {
   "cell_type": "markdown",
   "id": "5c4fabd4",
   "metadata": {
    "papermill": {
     "duration": 0.011223,
     "end_time": "2024-09-09T15:53:32.082001",
     "exception": false,
     "start_time": "2024-09-09T15:53:32.070778",
     "status": "completed"
    },
    "tags": []
   },
   "source": [
    "#### Implimenting Multilinear regression"
   ]
  },
  {
   "cell_type": "code",
   "execution_count": 23,
   "id": "3b0bffc2",
   "metadata": {
    "execution": {
     "iopub.execute_input": "2024-09-09T15:53:32.108000Z",
     "iopub.status.busy": "2024-09-09T15:53:32.106569Z",
     "iopub.status.idle": "2024-09-09T15:53:32.137498Z",
     "shell.execute_reply": "2024-09-09T15:53:32.136245Z"
    },
    "papermill": {
     "duration": 0.046398,
     "end_time": "2024-09-09T15:53:32.140025",
     "exception": false,
     "start_time": "2024-09-09T15:53:32.093627",
     "status": "completed"
    },
    "tags": []
   },
   "outputs": [],
   "source": [
    "from sklearn.linear_model import LinearRegression\n",
    "\n",
    "model= LinearRegression()\n",
    "\n",
    "model.fit(X_train, y_train)\n",
    "\n",
    "y_pred=model.predict(X_test)"
   ]
  },
  {
   "cell_type": "code",
   "execution_count": 24,
   "id": "6373e0f4",
   "metadata": {
    "execution": {
     "iopub.execute_input": "2024-09-09T15:53:32.165150Z",
     "iopub.status.busy": "2024-09-09T15:53:32.164307Z",
     "iopub.status.idle": "2024-09-09T15:53:32.169253Z",
     "shell.execute_reply": "2024-09-09T15:53:32.168070Z"
    },
    "papermill": {
     "duration": 0.019986,
     "end_time": "2024-09-09T15:53:32.171565",
     "exception": false,
     "start_time": "2024-09-09T15:53:32.151579",
     "status": "completed"
    },
    "tags": []
   },
   "outputs": [],
   "source": [
    "# print(y_pred)"
   ]
  },
  {
   "cell_type": "code",
   "execution_count": 25,
   "id": "fe3d5ec4",
   "metadata": {
    "execution": {
     "iopub.execute_input": "2024-09-09T15:53:32.196919Z",
     "iopub.status.busy": "2024-09-09T15:53:32.195984Z",
     "iopub.status.idle": "2024-09-09T15:53:32.201150Z",
     "shell.execute_reply": "2024-09-09T15:53:32.200163Z"
    },
    "papermill": {
     "duration": 0.020735,
     "end_time": "2024-09-09T15:53:32.203831",
     "exception": false,
     "start_time": "2024-09-09T15:53:32.183096",
     "status": "completed"
    },
    "tags": []
   },
   "outputs": [
    {
     "name": "stdout",
     "output_type": "stream",
     "text": [
      "(268,)\n",
      "(268,)\n"
     ]
    }
   ],
   "source": [
    "print(y_test.shape)\n",
    "print(y_pred.shape)"
   ]
  },
  {
   "cell_type": "code",
   "execution_count": 26,
   "id": "f35150e9",
   "metadata": {
    "execution": {
     "iopub.execute_input": "2024-09-09T15:53:32.229093Z",
     "iopub.status.busy": "2024-09-09T15:53:32.228118Z",
     "iopub.status.idle": "2024-09-09T15:53:32.233052Z",
     "shell.execute_reply": "2024-09-09T15:53:32.231845Z"
    },
    "papermill": {
     "duration": 0.020105,
     "end_time": "2024-09-09T15:53:32.235543",
     "exception": false,
     "start_time": "2024-09-09T15:53:32.215438",
     "status": "completed"
    },
    "tags": []
   },
   "outputs": [],
   "source": [
    "# y_pred=y_pred.flatten()"
   ]
  },
  {
   "cell_type": "code",
   "execution_count": 27,
   "id": "2f529878",
   "metadata": {
    "execution": {
     "iopub.execute_input": "2024-09-09T15:53:32.260381Z",
     "iopub.status.busy": "2024-09-09T15:53:32.259912Z",
     "iopub.status.idle": "2024-09-09T15:53:32.264699Z",
     "shell.execute_reply": "2024-09-09T15:53:32.263605Z"
    },
    "papermill": {
     "duration": 0.019745,
     "end_time": "2024-09-09T15:53:32.266905",
     "exception": false,
     "start_time": "2024-09-09T15:53:32.247160",
     "status": "completed"
    },
    "tags": []
   },
   "outputs": [],
   "source": [
    "# nonzero_indices = y_test != 0\n",
    "# mape = np.mean(np.abs((y_test[nonzero_indices] - y_pred[nonzero_indices]) / y_test[nonzero_indices])) * 100\n"
   ]
  },
  {
   "cell_type": "markdown",
   "id": "69e21aaf",
   "metadata": {
    "papermill": {
     "duration": 0.011182,
     "end_time": "2024-09-09T15:53:32.289790",
     "exception": false,
     "start_time": "2024-09-09T15:53:32.278608",
     "status": "completed"
    },
    "tags": []
   },
   "source": [
    "### Calculating (MAE, MSE,HUBER LOSS) for Multilinear Regression"
   ]
  },
  {
   "cell_type": "code",
   "execution_count": 28,
   "id": "f85e9d3a",
   "metadata": {
    "execution": {
     "iopub.execute_input": "2024-09-09T15:53:32.314514Z",
     "iopub.status.busy": "2024-09-09T15:53:32.314083Z",
     "iopub.status.idle": "2024-09-09T15:53:32.377862Z",
     "shell.execute_reply": "2024-09-09T15:53:32.376605Z"
    },
    "papermill": {
     "duration": 0.079075,
     "end_time": "2024-09-09T15:53:32.380370",
     "exception": false,
     "start_time": "2024-09-09T15:53:32.301295",
     "status": "completed"
    },
    "tags": []
   },
   "outputs": [
    {
     "name": "stdout",
     "output_type": "stream",
     "text": [
      "MAE: 0.2876611128913831\n",
      "MSE: 0.13519469921046265\n",
      "Huber Loss: 0.06759735\n",
      "r2_score 0.44424083813574455\n"
     ]
    }
   ],
   "source": [
    "mae=mean_absolute_error(y_test,y_pred)\n",
    "print(\"MAE:\",mae)\n",
    "\n",
    "mse=mean_squared_error(y_test,y_pred)\n",
    "print(\"MSE:\",mse)\n",
    "\n",
    "huber_loss= Huber(delta=1.0)\n",
    "h_loss= huber_loss(y_test,y_pred).numpy()\n",
    "print(\"Huber Loss:\", h_loss)\n",
    "\n",
    "r2_mlr= r2_score(y_test,y_pred)\n",
    "print(\"r2_score\",r2_mlr)"
   ]
  },
  {
   "cell_type": "markdown",
   "id": "a41889b5",
   "metadata": {
    "papermill": {
     "duration": 0.011278,
     "end_time": "2024-09-09T15:53:32.403421",
     "exception": false,
     "start_time": "2024-09-09T15:53:32.392143",
     "status": "completed"
    },
    "tags": []
   },
   "source": [
    "#### Implimenting Support Vector Regressor (SVR) "
   ]
  },
  {
   "cell_type": "code",
   "execution_count": 29,
   "id": "63c2b905",
   "metadata": {
    "execution": {
     "iopub.execute_input": "2024-09-09T15:53:32.428895Z",
     "iopub.status.busy": "2024-09-09T15:53:32.428500Z",
     "iopub.status.idle": "2024-09-09T15:53:32.465541Z",
     "shell.execute_reply": "2024-09-09T15:53:32.464619Z"
    },
    "papermill": {
     "duration": 0.052723,
     "end_time": "2024-09-09T15:53:32.468149",
     "exception": false,
     "start_time": "2024-09-09T15:53:32.415426",
     "status": "completed"
    },
    "tags": []
   },
   "outputs": [],
   "source": [
    "from sklearn.svm import SVR\n",
    "from sklearn.preprocessing import StandardScaler\n",
    "\n",
    "#Standardize the features\n",
    "scaler= StandardScaler()\n",
    "X_train_scaled=scaler.fit_transform(X_train)\n",
    "X_test_scaled= scaler.transform(X_test)\n",
    "\n",
    "#initialize the SVR\n",
    "svr_model=SVR(kernel='rbf')\n",
    "\n",
    "svr_model.fit(X_train_scaled,y_train)\n",
    "\n",
    "y_pred= svr_model.predict(X_test_scaled)"
   ]
  },
  {
   "cell_type": "markdown",
   "id": "7f9c04a6",
   "metadata": {
    "papermill": {
     "duration": 0.011669,
     "end_time": "2024-09-09T15:53:32.491925",
     "exception": false,
     "start_time": "2024-09-09T15:53:32.480256",
     "status": "completed"
    },
    "tags": []
   },
   "source": [
    "### Calculating (MAE, MSE,HUBER LOSS) for Support Vector Regressor SVR"
   ]
  },
  {
   "cell_type": "code",
   "execution_count": 30,
   "id": "0677e901",
   "metadata": {
    "execution": {
     "iopub.execute_input": "2024-09-09T15:53:32.517521Z",
     "iopub.status.busy": "2024-09-09T15:53:32.516526Z",
     "iopub.status.idle": "2024-09-09T15:53:32.528427Z",
     "shell.execute_reply": "2024-09-09T15:53:32.527242Z"
    },
    "papermill": {
     "duration": 0.026951,
     "end_time": "2024-09-09T15:53:32.530603",
     "exception": false,
     "start_time": "2024-09-09T15:53:32.503652",
     "status": "completed"
    },
    "tags": []
   },
   "outputs": [
    {
     "name": "stdout",
     "output_type": "stream",
     "text": [
      "MAE: 0.22670586019511937\n",
      "MSE: 0.1349490921955064\n",
      "Huber Loss: 0.067474544\n",
      "R2 Score: 0.4452504808922817\n"
     ]
    }
   ],
   "source": [
    "mae= mean_absolute_error(y_test,y_pred)\n",
    "print(\"MAE:\",mae)\n",
    "\n",
    "mse=mean_squared_error(y_test,y_pred)\n",
    "print(\"MSE:\",mse)\n",
    "\n",
    "huber_loss= Huber(delta=1.0)\n",
    "h_loss= huber_loss(y_test,y_pred).numpy()\n",
    "print(\"Huber Loss:\", h_loss)\n",
    "\n",
    "r2_svr=r2_score(y_test,y_pred)\n",
    "print(\"R2 Score:\",r2_svr)"
   ]
  },
  {
   "cell_type": "markdown",
   "id": "a54a6bcb",
   "metadata": {
    "papermill": {
     "duration": 0.011271,
     "end_time": "2024-09-09T15:53:32.553584",
     "exception": false,
     "start_time": "2024-09-09T15:53:32.542313",
     "status": "completed"
    },
    "tags": []
   },
   "source": [
    "#### Implimentation of sequential Artificial Nural Network"
   ]
  },
  {
   "cell_type": "code",
   "execution_count": 31,
   "id": "ece9ef51",
   "metadata": {
    "execution": {
     "iopub.execute_input": "2024-09-09T15:53:32.578668Z",
     "iopub.status.busy": "2024-09-09T15:53:32.578240Z",
     "iopub.status.idle": "2024-09-09T15:53:38.750687Z",
     "shell.execute_reply": "2024-09-09T15:53:38.749613Z"
    },
    "papermill": {
     "duration": 6.187591,
     "end_time": "2024-09-09T15:53:38.752959",
     "exception": false,
     "start_time": "2024-09-09T15:53:32.565368",
     "status": "completed"
    },
    "tags": []
   },
   "outputs": [
    {
     "name": "stdout",
     "output_type": "stream",
     "text": [
      "Epoch 1/200\n"
     ]
    },
    {
     "name": "stderr",
     "output_type": "stream",
     "text": [
      "/opt/conda/lib/python3.10/site-packages/keras/src/layers/core/dense.py:87: UserWarning:\n",
      "\n",
      "Do not pass an `input_shape`/`input_dim` argument to a layer. When using Sequential models, prefer using an `Input(shape)` object as the first layer in the model instead.\n",
      "\n"
     ]
    },
    {
     "name": "stdout",
     "output_type": "stream",
     "text": [
      "\u001b[1m39/39\u001b[0m \u001b[32m━━━━━━━━━━━━━━━━━━━━\u001b[0m\u001b[37m\u001b[0m \u001b[1m1s\u001b[0m 6ms/step - loss: 0.3843 - val_loss: 0.3182\n",
      "Epoch 2/200\n",
      "\u001b[1m39/39\u001b[0m \u001b[32m━━━━━━━━━━━━━━━━━━━━\u001b[0m\u001b[37m\u001b[0m \u001b[1m0s\u001b[0m 2ms/step - loss: 0.2743 - val_loss: 0.2368\n",
      "Epoch 3/200\n",
      "\u001b[1m39/39\u001b[0m \u001b[32m━━━━━━━━━━━━━━━━━━━━\u001b[0m\u001b[37m\u001b[0m \u001b[1m0s\u001b[0m 2ms/step - loss: 0.2021 - val_loss: 0.1906\n",
      "Epoch 4/200\n",
      "\u001b[1m39/39\u001b[0m \u001b[32m━━━━━━━━━━━━━━━━━━━━\u001b[0m\u001b[37m\u001b[0m \u001b[1m0s\u001b[0m 3ms/step - loss: 0.1829 - val_loss: 0.1657\n",
      "Epoch 5/200\n",
      "\u001b[1m39/39\u001b[0m \u001b[32m━━━━━━━━━━━━━━━━━━━━\u001b[0m\u001b[37m\u001b[0m \u001b[1m0s\u001b[0m 2ms/step - loss: 0.1529 - val_loss: 0.1498\n",
      "Epoch 6/200\n",
      "\u001b[1m39/39\u001b[0m \u001b[32m━━━━━━━━━━━━━━━━━━━━\u001b[0m\u001b[37m\u001b[0m \u001b[1m0s\u001b[0m 3ms/step - loss: 0.1530 - val_loss: 0.1405\n",
      "Epoch 7/200\n",
      "\u001b[1m39/39\u001b[0m \u001b[32m━━━━━━━━━━━━━━━━━━━━\u001b[0m\u001b[37m\u001b[0m \u001b[1m0s\u001b[0m 2ms/step - loss: 0.1479 - val_loss: 0.1355\n",
      "Epoch 8/200\n",
      "\u001b[1m39/39\u001b[0m \u001b[32m━━━━━━━━━━━━━━━━━━━━\u001b[0m\u001b[37m\u001b[0m \u001b[1m0s\u001b[0m 2ms/step - loss: 0.1373 - val_loss: 0.1328\n",
      "Epoch 9/200\n",
      "\u001b[1m39/39\u001b[0m \u001b[32m━━━━━━━━━━━━━━━━━━━━\u001b[0m\u001b[37m\u001b[0m \u001b[1m0s\u001b[0m 2ms/step - loss: 0.1345 - val_loss: 0.1297\n",
      "Epoch 10/200\n",
      "\u001b[1m39/39\u001b[0m \u001b[32m━━━━━━━━━━━━━━━━━━━━\u001b[0m\u001b[37m\u001b[0m \u001b[1m0s\u001b[0m 5ms/step - loss: 0.1404 - val_loss: 0.1290\n",
      "Epoch 11/200\n",
      "\u001b[1m39/39\u001b[0m \u001b[32m━━━━━━━━━━━━━━━━━━━━\u001b[0m\u001b[37m\u001b[0m \u001b[1m0s\u001b[0m 2ms/step - loss: 0.1332 - val_loss: 0.1287\n",
      "Epoch 12/200\n",
      "\u001b[1m39/39\u001b[0m \u001b[32m━━━━━━━━━━━━━━━━━━━━\u001b[0m\u001b[37m\u001b[0m \u001b[1m0s\u001b[0m 2ms/step - loss: 0.1427 - val_loss: 0.1285\n",
      "Epoch 13/200\n",
      "\u001b[1m39/39\u001b[0m \u001b[32m━━━━━━━━━━━━━━━━━━━━\u001b[0m\u001b[37m\u001b[0m \u001b[1m0s\u001b[0m 3ms/step - loss: 0.1416 - val_loss: 0.1270\n",
      "Epoch 14/200\n",
      "\u001b[1m39/39\u001b[0m \u001b[32m━━━━━━━━━━━━━━━━━━━━\u001b[0m\u001b[37m\u001b[0m \u001b[1m0s\u001b[0m 2ms/step - loss: 0.1186 - val_loss: 0.1275\n",
      "Epoch 15/200\n",
      "\u001b[1m39/39\u001b[0m \u001b[32m━━━━━━━━━━━━━━━━━━━━\u001b[0m\u001b[37m\u001b[0m \u001b[1m0s\u001b[0m 2ms/step - loss: 0.1366 - val_loss: 0.1264\n",
      "Epoch 16/200\n",
      "\u001b[1m39/39\u001b[0m \u001b[32m━━━━━━━━━━━━━━━━━━━━\u001b[0m\u001b[37m\u001b[0m \u001b[1m0s\u001b[0m 2ms/step - loss: 0.1165 - val_loss: 0.1261\n",
      "Epoch 17/200\n",
      "\u001b[1m39/39\u001b[0m \u001b[32m━━━━━━━━━━━━━━━━━━━━\u001b[0m\u001b[37m\u001b[0m \u001b[1m0s\u001b[0m 2ms/step - loss: 0.1287 - val_loss: 0.1258\n",
      "Epoch 18/200\n",
      "\u001b[1m39/39\u001b[0m \u001b[32m━━━━━━━━━━━━━━━━━━━━\u001b[0m\u001b[37m\u001b[0m \u001b[1m0s\u001b[0m 2ms/step - loss: 0.1215 - val_loss: 0.1260\n",
      "Epoch 19/200\n",
      "\u001b[1m39/39\u001b[0m \u001b[32m━━━━━━━━━━━━━━━━━━━━\u001b[0m\u001b[37m\u001b[0m \u001b[1m0s\u001b[0m 2ms/step - loss: 0.1102 - val_loss: 0.1260\n",
      "Epoch 20/200\n",
      "\u001b[1m39/39\u001b[0m \u001b[32m━━━━━━━━━━━━━━━━━━━━\u001b[0m\u001b[37m\u001b[0m \u001b[1m0s\u001b[0m 2ms/step - loss: 0.1287 - val_loss: 0.1250\n",
      "Epoch 21/200\n",
      "\u001b[1m39/39\u001b[0m \u001b[32m━━━━━━━━━━━━━━━━━━━━\u001b[0m\u001b[37m\u001b[0m \u001b[1m0s\u001b[0m 2ms/step - loss: 0.1238 - val_loss: 0.1255\n",
      "Epoch 22/200\n",
      "\u001b[1m39/39\u001b[0m \u001b[32m━━━━━━━━━━━━━━━━━━━━\u001b[0m\u001b[37m\u001b[0m \u001b[1m0s\u001b[0m 2ms/step - loss: 0.1290 - val_loss: 0.1249\n",
      "Epoch 23/200\n",
      "\u001b[1m39/39\u001b[0m \u001b[32m━━━━━━━━━━━━━━━━━━━━\u001b[0m\u001b[37m\u001b[0m \u001b[1m0s\u001b[0m 2ms/step - loss: 0.1236 - val_loss: 0.1250\n",
      "Epoch 24/200\n",
      "\u001b[1m39/39\u001b[0m \u001b[32m━━━━━━━━━━━━━━━━━━━━\u001b[0m\u001b[37m\u001b[0m \u001b[1m0s\u001b[0m 2ms/step - loss: 0.1192 - val_loss: 0.1254\n",
      "Epoch 25/200\n",
      "\u001b[1m39/39\u001b[0m \u001b[32m━━━━━━━━━━━━━━━━━━━━\u001b[0m\u001b[37m\u001b[0m \u001b[1m0s\u001b[0m 2ms/step - loss: 0.1172 - val_loss: 0.1256\n",
      "Epoch 26/200\n",
      "\u001b[1m39/39\u001b[0m \u001b[32m━━━━━━━━━━━━━━━━━━━━\u001b[0m\u001b[37m\u001b[0m \u001b[1m0s\u001b[0m 2ms/step - loss: 0.1252 - val_loss: 0.1244\n",
      "Epoch 27/200\n",
      "\u001b[1m39/39\u001b[0m \u001b[32m━━━━━━━━━━━━━━━━━━━━\u001b[0m\u001b[37m\u001b[0m \u001b[1m0s\u001b[0m 2ms/step - loss: 0.1303 - val_loss: 0.1247\n",
      "Epoch 28/200\n",
      "\u001b[1m39/39\u001b[0m \u001b[32m━━━━━━━━━━━━━━━━━━━━\u001b[0m\u001b[37m\u001b[0m \u001b[1m0s\u001b[0m 2ms/step - loss: 0.1251 - val_loss: 0.1253\n",
      "Epoch 29/200\n",
      "\u001b[1m39/39\u001b[0m \u001b[32m━━━━━━━━━━━━━━━━━━━━\u001b[0m\u001b[37m\u001b[0m \u001b[1m0s\u001b[0m 2ms/step - loss: 0.1139 - val_loss: 0.1243\n",
      "Epoch 30/200\n",
      "\u001b[1m39/39\u001b[0m \u001b[32m━━━━━━━━━━━━━━━━━━━━\u001b[0m\u001b[37m\u001b[0m \u001b[1m0s\u001b[0m 2ms/step - loss: 0.1145 - val_loss: 0.1251\n",
      "Epoch 31/200\n",
      "\u001b[1m39/39\u001b[0m \u001b[32m━━━━━━━━━━━━━━━━━━━━\u001b[0m\u001b[37m\u001b[0m \u001b[1m0s\u001b[0m 2ms/step - loss: 0.1277 - val_loss: 0.1247\n",
      "Epoch 32/200\n",
      "\u001b[1m39/39\u001b[0m \u001b[32m━━━━━━━━━━━━━━━━━━━━\u001b[0m\u001b[37m\u001b[0m \u001b[1m0s\u001b[0m 2ms/step - loss: 0.1234 - val_loss: 0.1251\n",
      "Epoch 33/200\n",
      "\u001b[1m39/39\u001b[0m \u001b[32m━━━━━━━━━━━━━━━━━━━━\u001b[0m\u001b[37m\u001b[0m \u001b[1m0s\u001b[0m 2ms/step - loss: 0.1113 - val_loss: 0.1245\n",
      "Epoch 34/200\n",
      "\u001b[1m39/39\u001b[0m \u001b[32m━━━━━━━━━━━━━━━━━━━━\u001b[0m\u001b[37m\u001b[0m \u001b[1m0s\u001b[0m 2ms/step - loss: 0.1260 - val_loss: 0.1247\n",
      "Epoch 35/200\n",
      "\u001b[1m39/39\u001b[0m \u001b[32m━━━━━━━━━━━━━━━━━━━━\u001b[0m\u001b[37m\u001b[0m \u001b[1m0s\u001b[0m 2ms/step - loss: 0.1161 - val_loss: 0.1251\n",
      "Epoch 36/200\n",
      "\u001b[1m39/39\u001b[0m \u001b[32m━━━━━━━━━━━━━━━━━━━━\u001b[0m\u001b[37m\u001b[0m \u001b[1m0s\u001b[0m 2ms/step - loss: 0.1224 - val_loss: 0.1250\n",
      "Epoch 37/200\n",
      "\u001b[1m39/39\u001b[0m \u001b[32m━━━━━━━━━━━━━━━━━━━━\u001b[0m\u001b[37m\u001b[0m \u001b[1m0s\u001b[0m 2ms/step - loss: 0.1240 - val_loss: 0.1252\n",
      "Epoch 38/200\n",
      "\u001b[1m39/39\u001b[0m \u001b[32m━━━━━━━━━━━━━━━━━━━━\u001b[0m\u001b[37m\u001b[0m \u001b[1m0s\u001b[0m 2ms/step - loss: 0.1176 - val_loss: 0.1244\n",
      "Epoch 39/200\n",
      "\u001b[1m39/39\u001b[0m \u001b[32m━━━━━━━━━━━━━━━━━━━━\u001b[0m\u001b[37m\u001b[0m \u001b[1m0s\u001b[0m 2ms/step - loss: 0.1170 - val_loss: 0.1256\n",
      "\u001b[1m9/9\u001b[0m \u001b[32m━━━━━━━━━━━━━━━━━━━━\u001b[0m\u001b[37m\u001b[0m \u001b[1m0s\u001b[0m 6ms/step \n",
      "R² Score: 0.4890687617454339\n"
     ]
    }
   ],
   "source": [
    "# Import necessary libraries\n",
    "from tensorflow.keras import Sequential\n",
    "from tensorflow.keras.layers import Dense\n",
    "from sklearn.preprocessing import StandardScaler\n",
    "from tensorflow.keras.callbacks import EarlyStopping\n",
    "from tensorflow.keras.optimizers import Adam\n",
    "\n",
    "# Scale the input data\n",
    "scaler = StandardScaler()\n",
    "X_train_scaled = scaler.fit_transform(X_train)\n",
    "X_test_scaled = scaler.transform(X_test)\n",
    "\n",
    "# Define a simplified sequential model\n",
    "model = Sequential()\n",
    "\n",
    "# Adding an input layer and two hidden layers with ReLU activation\n",
    "model.add(Dense(32, input_dim=X_train.shape[1], activation='relu'))  # Reduced complexity\n",
    "model.add(Dense(16, activation='relu'))  # Another hidden layer with fewer neurons\n",
    "model.add(Dense(1, activation='linear'))  # Output layer for regression\n",
    "\n",
    "# Compile the model with a smaller learning rate for better convergence\n",
    "model.compile(optimizer=Adam(learning_rate=0.0005), loss='mean_squared_error')\n",
    "\n",
    "# Using early stopping to prevent overfitting\n",
    "early_stop = EarlyStopping(monitor='val_loss', patience=10, restore_best_weights=True)\n",
    "\n",
    "# Train the model\n",
    "history = model.fit(X_train_scaled, y_train, epochs=200, batch_size=16, validation_data=(X_test_scaled, y_test), callbacks=[early_stop])\n",
    "\n",
    "# Make predictions\n",
    "y_pred = model.predict(X_test_scaled)\n",
    "\n",
    "# Calculate and print R² score\n",
    "r2 = r2_score(y_test, y_pred)\n",
    "print(f'R² Score: {r2}')\n"
   ]
  },
  {
   "cell_type": "markdown",
   "id": "21250c58",
   "metadata": {
    "papermill": {
     "duration": 0.020091,
     "end_time": "2024-09-09T15:53:38.844568",
     "exception": false,
     "start_time": "2024-09-09T15:53:38.824477",
     "status": "completed"
    },
    "tags": []
   },
   "source": [
    "### Calculating (MAE, MSE,HUBER LOSS) for Sequential Artificial Nural Network"
   ]
  },
  {
   "cell_type": "code",
   "execution_count": 32,
   "id": "c0883eab",
   "metadata": {
    "execution": {
     "iopub.execute_input": "2024-09-09T15:53:38.885024Z",
     "iopub.status.busy": "2024-09-09T15:53:38.884592Z",
     "iopub.status.idle": "2024-09-09T15:53:38.902509Z",
     "shell.execute_reply": "2024-09-09T15:53:38.901284Z"
    },
    "papermill": {
     "duration": 0.040868,
     "end_time": "2024-09-09T15:53:38.904859",
     "exception": false,
     "start_time": "2024-09-09T15:53:38.863991",
     "status": "completed"
    },
    "tags": []
   },
   "outputs": [
    {
     "name": "stdout",
     "output_type": "stream",
     "text": [
      "MAE: 0.26821588289771064\n",
      "MSE: 0.12428979999420499\n",
      "Huber Loss: 0.062144898\n",
      "r2_score: 0.4890687617454339\n"
     ]
    }
   ],
   "source": [
    "mae=mean_absolute_error(y_test,y_pred)\n",
    "print(\"MAE:\",mae)\n",
    "\n",
    "mse=mean_squared_error(y_test,y_pred)\n",
    "print(\"MSE:\",mse)\n",
    "\n",
    "huber_loss= Huber(delta=1.0)\n",
    "h_loss= huber_loss(y_test,y_pred).numpy()\n",
    "print(\"Huber Loss:\", h_loss)\n",
    "\n",
    "\n",
    "r2_ann= r2_score(y_test,y_pred)\n",
    "print(\"r2_score:\",r2_ann)"
   ]
  },
  {
   "cell_type": "code",
   "execution_count": 33,
   "id": "f291142d",
   "metadata": {
    "execution": {
     "iopub.execute_input": "2024-09-09T15:53:38.945949Z",
     "iopub.status.busy": "2024-09-09T15:53:38.945545Z",
     "iopub.status.idle": "2024-09-09T15:53:39.196865Z",
     "shell.execute_reply": "2024-09-09T15:53:39.195730Z"
    },
    "papermill": {
     "duration": 0.274717,
     "end_time": "2024-09-09T15:53:39.199323",
     "exception": false,
     "start_time": "2024-09-09T15:53:38.924606",
     "status": "completed"
    },
    "tags": []
   },
   "outputs": [
    {
     "data": {
      "image/png": "[encoded data removed]",
      "text/plain": [
       "<Figure size 640x480 with 1 Axes>"
      ]
     },
     "metadata": {},
     "output_type": "display_data"
    }
   ],
   "source": [
    "#training/validation loss using history.history\n",
    "\n",
    "plt.plot(history.history['loss'], label='Training Loss')\n",
    "plt.plot(history.history['val_loss'], label='Validation Loss')\n",
    "plt.xlabel('Epochs')\n",
    "plt.ylabel('Loss (MSE)')\n",
    "plt.legend()\n",
    "plt.show()"
   ]
  },
  {
   "cell_type": "code",
   "execution_count": 34,
   "id": "32b3274a",
   "metadata": {
    "execution": {
     "iopub.execute_input": "2024-09-09T15:53:39.241809Z",
     "iopub.status.busy": "2024-09-09T15:53:39.241399Z",
     "iopub.status.idle": "2024-09-09T15:53:39.457037Z",
     "shell.execute_reply": "2024-09-09T15:53:39.455875Z"
    },
    "papermill": {
     "duration": 0.23976,
     "end_time": "2024-09-09T15:53:39.459647",
     "exception": false,
     "start_time": "2024-09-09T15:53:39.219887",
     "status": "completed"
    },
    "tags": []
   },
   "outputs": [
    {
     "data": {
      "image/png": "[encoded data removed]",
      "text/plain": [
       "<Figure size 640x480 with 1 Axes>"
      ]
     },
     "metadata": {},
     "output_type": "display_data"
    }
   ],
   "source": [
    "r2_scores=[r2_mlr,r2_svr,r2_ann]\n",
    "models=['Multiliner_regressor','SupporVector_regressor','ANN']\n",
    "\n",
    "plt.bar(models,r2_scores)\n",
    "\n",
    "plt.xlabel('Models')\n",
    "plt.ylabel('r2_score')\n",
    "plt.title('Comaprison of r2_scores of different models')\n",
    "\n",
    "plt.show()"
   ]
  }
 ],
 "metadata": {
  "kaggle": {
   "accelerator": "none",
   "dataSources": [
    {
     "databundleVersionId": 26502,
     "sourceId": 3136,
     "sourceType": "competition"
    }
   ],
   "dockerImageVersionId": 30761,
   "isGpuEnabled": false,
   "isInternetEnabled": true,
   "language": "python",
   "sourceType": "notebook"
  },
  "kernelspec": {
   "display_name": "Python 3",
   "language": "python",
   "name": "python3"
  },
  "language_info": {
   "codemirror_mode": {
    "name": "ipython",
    "version": 3
   },
   "file_extension": ".py",
   "mimetype": "text/x-python",
   "name": "python",
   "nbconvert_exporter": "python",
   "pygments_lexer": "ipython3",
   "version": "3.10.14"
  },
  "papermill": {
   "default_parameters": {},
   "duration": 30.511072,
   "end_time": "2024-09-09T15:53:41.842529",
   "environment_variables": {},
   "exception": null,
   "input_path": "__notebook__.ipynb",
   "output_path": "__notebook__.ipynb",
   "parameters": {},
   "start_time": "2024-09-09T15:53:11.331457",
   "version": "2.6.0"
  }
 },
 "nbformat": 4,
 "nbformat_minor": 5
}
